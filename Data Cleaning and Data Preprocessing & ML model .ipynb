{
 "cells": [
  {
   "cell_type": "markdown",
   "id": "054df6c2",
   "metadata": {},
   "source": [
    "## Import Python Libraries "
   ]
  },
  {
   "cell_type": "code",
   "execution_count": 1,
   "id": "19a37383",
   "metadata": {},
   "outputs": [],
   "source": [
    "import pandas as pd \n",
    "import numpy as np\n",
    "import matplotlib.pyplot as plt\n",
    "import seaborn as sns\n",
    "import warnings \n",
    "warnings.filterwarnings('ignore')\n",
    "%matplotlib inline \n",
    "from sklearn.preprocessing import LabelEncoder\n",
    "from sklearn.model_selection import train_test_split \n",
    "from sklearn.linear_model import LinearRegression  \n",
    "from sklearn.linear_model import Lasso\n",
    "from sklearn import metrics   \n"
   ]
  },
  {
   "cell_type": "markdown",
   "id": "959ae322",
   "metadata": {},
   "source": [
    "## Read Dataset"
   ]
  },
  {
   "cell_type": "code",
   "execution_count": 2,
   "id": "554e90fb",
   "metadata": {},
   "outputs": [
    {
     "data": {
      "text/html": [
       "<div>\n",
       "<style scoped>\n",
       "    .dataframe tbody tr th:only-of-type {\n",
       "        vertical-align: middle;\n",
       "    }\n",
       "\n",
       "    .dataframe tbody tr th {\n",
       "        vertical-align: top;\n",
       "    }\n",
       "\n",
       "    .dataframe thead th {\n",
       "        text-align: right;\n",
       "    }\n",
       "</style>\n",
       "<table border=\"1\" class=\"dataframe\">\n",
       "  <thead>\n",
       "    <tr style=\"text-align: right;\">\n",
       "      <th></th>\n",
       "      <th>name</th>\n",
       "      <th>year</th>\n",
       "      <th>selling_price</th>\n",
       "      <th>km_driven</th>\n",
       "      <th>fuel</th>\n",
       "      <th>seller_type</th>\n",
       "      <th>transmission</th>\n",
       "      <th>owner</th>\n",
       "    </tr>\n",
       "  </thead>\n",
       "  <tbody>\n",
       "    <tr>\n",
       "      <th>0</th>\n",
       "      <td>Maruti 800 AC</td>\n",
       "      <td>2007</td>\n",
       "      <td>60000</td>\n",
       "      <td>70000</td>\n",
       "      <td>Petrol</td>\n",
       "      <td>Individual</td>\n",
       "      <td>Manual</td>\n",
       "      <td>First Owner</td>\n",
       "    </tr>\n",
       "    <tr>\n",
       "      <th>1</th>\n",
       "      <td>Maruti Wagon R LXI Minor</td>\n",
       "      <td>2007</td>\n",
       "      <td>135000</td>\n",
       "      <td>50000</td>\n",
       "      <td>Petrol</td>\n",
       "      <td>Individual</td>\n",
       "      <td>Manual</td>\n",
       "      <td>First Owner</td>\n",
       "    </tr>\n",
       "    <tr>\n",
       "      <th>2</th>\n",
       "      <td>Hyundai Verna 1.6 SX</td>\n",
       "      <td>2012</td>\n",
       "      <td>600000</td>\n",
       "      <td>100000</td>\n",
       "      <td>Diesel</td>\n",
       "      <td>Individual</td>\n",
       "      <td>Manual</td>\n",
       "      <td>First Owner</td>\n",
       "    </tr>\n",
       "    <tr>\n",
       "      <th>3</th>\n",
       "      <td>Datsun RediGO T Option</td>\n",
       "      <td>2017</td>\n",
       "      <td>250000</td>\n",
       "      <td>46000</td>\n",
       "      <td>Petrol</td>\n",
       "      <td>Individual</td>\n",
       "      <td>Manual</td>\n",
       "      <td>First Owner</td>\n",
       "    </tr>\n",
       "    <tr>\n",
       "      <th>4</th>\n",
       "      <td>Honda Amaze VX i-DTEC</td>\n",
       "      <td>2014</td>\n",
       "      <td>450000</td>\n",
       "      <td>141000</td>\n",
       "      <td>Diesel</td>\n",
       "      <td>Individual</td>\n",
       "      <td>Manual</td>\n",
       "      <td>Second Owner</td>\n",
       "    </tr>\n",
       "  </tbody>\n",
       "</table>\n",
       "</div>"
      ],
      "text/plain": [
       "                       name  year  selling_price  km_driven    fuel  \\\n",
       "0             Maruti 800 AC  2007          60000      70000  Petrol   \n",
       "1  Maruti Wagon R LXI Minor  2007         135000      50000  Petrol   \n",
       "2      Hyundai Verna 1.6 SX  2012         600000     100000  Diesel   \n",
       "3    Datsun RediGO T Option  2017         250000      46000  Petrol   \n",
       "4     Honda Amaze VX i-DTEC  2014         450000     141000  Diesel   \n",
       "\n",
       "  seller_type transmission         owner  \n",
       "0  Individual       Manual   First Owner  \n",
       "1  Individual       Manual   First Owner  \n",
       "2  Individual       Manual   First Owner  \n",
       "3  Individual       Manual   First Owner  \n",
       "4  Individual       Manual  Second Owner  "
      ]
     },
     "execution_count": 2,
     "metadata": {},
     "output_type": "execute_result"
    }
   ],
   "source": [
    "df = pd.read_csv('CAR DETAILS.csv')\n",
    "\n",
    "df.head()"
   ]
  },
  {
   "cell_type": "code",
   "execution_count": 3,
   "id": "ad8baf5f",
   "metadata": {},
   "outputs": [
    {
     "data": {
      "text/plain": [
       "(4340, 8)"
      ]
     },
     "execution_count": 3,
     "metadata": {},
     "output_type": "execute_result"
    }
   ],
   "source": [
    "df.shape"
   ]
  },
  {
   "cell_type": "code",
   "execution_count": 4,
   "id": "2c5634b7",
   "metadata": {},
   "outputs": [
    {
     "data": {
      "text/html": [
       "<div>\n",
       "<style scoped>\n",
       "    .dataframe tbody tr th:only-of-type {\n",
       "        vertical-align: middle;\n",
       "    }\n",
       "\n",
       "    .dataframe tbody tr th {\n",
       "        vertical-align: top;\n",
       "    }\n",
       "\n",
       "    .dataframe thead th {\n",
       "        text-align: right;\n",
       "    }\n",
       "</style>\n",
       "<table border=\"1\" class=\"dataframe\">\n",
       "  <thead>\n",
       "    <tr style=\"text-align: right;\">\n",
       "      <th></th>\n",
       "      <th>name</th>\n",
       "      <th>year</th>\n",
       "      <th>selling_price</th>\n",
       "      <th>km_driven</th>\n",
       "      <th>fuel</th>\n",
       "      <th>seller_type</th>\n",
       "      <th>transmission</th>\n",
       "      <th>owner</th>\n",
       "    </tr>\n",
       "  </thead>\n",
       "  <tbody>\n",
       "    <tr>\n",
       "      <th>0</th>\n",
       "      <td>Maruti 800 AC</td>\n",
       "      <td>2007</td>\n",
       "      <td>60000</td>\n",
       "      <td>70000</td>\n",
       "      <td>Petrol</td>\n",
       "      <td>Individual</td>\n",
       "      <td>Manual</td>\n",
       "      <td>First Owner</td>\n",
       "    </tr>\n",
       "    <tr>\n",
       "      <th>1</th>\n",
       "      <td>Maruti Wagon R LXI Minor</td>\n",
       "      <td>2007</td>\n",
       "      <td>135000</td>\n",
       "      <td>50000</td>\n",
       "      <td>Petrol</td>\n",
       "      <td>Individual</td>\n",
       "      <td>Manual</td>\n",
       "      <td>First Owner</td>\n",
       "    </tr>\n",
       "    <tr>\n",
       "      <th>2</th>\n",
       "      <td>Hyundai Verna 1.6 SX</td>\n",
       "      <td>2012</td>\n",
       "      <td>600000</td>\n",
       "      <td>100000</td>\n",
       "      <td>Diesel</td>\n",
       "      <td>Individual</td>\n",
       "      <td>Manual</td>\n",
       "      <td>First Owner</td>\n",
       "    </tr>\n",
       "    <tr>\n",
       "      <th>3</th>\n",
       "      <td>Datsun RediGO T Option</td>\n",
       "      <td>2017</td>\n",
       "      <td>250000</td>\n",
       "      <td>46000</td>\n",
       "      <td>Petrol</td>\n",
       "      <td>Individual</td>\n",
       "      <td>Manual</td>\n",
       "      <td>First Owner</td>\n",
       "    </tr>\n",
       "    <tr>\n",
       "      <th>4</th>\n",
       "      <td>Honda Amaze VX i-DTEC</td>\n",
       "      <td>2014</td>\n",
       "      <td>450000</td>\n",
       "      <td>141000</td>\n",
       "      <td>Diesel</td>\n",
       "      <td>Individual</td>\n",
       "      <td>Manual</td>\n",
       "      <td>Second Owner</td>\n",
       "    </tr>\n",
       "  </tbody>\n",
       "</table>\n",
       "</div>"
      ],
      "text/plain": [
       "                       name  year  selling_price  km_driven    fuel  \\\n",
       "0             Maruti 800 AC  2007          60000      70000  Petrol   \n",
       "1  Maruti Wagon R LXI Minor  2007         135000      50000  Petrol   \n",
       "2      Hyundai Verna 1.6 SX  2012         600000     100000  Diesel   \n",
       "3    Datsun RediGO T Option  2017         250000      46000  Petrol   \n",
       "4     Honda Amaze VX i-DTEC  2014         450000     141000  Diesel   \n",
       "\n",
       "  seller_type transmission         owner  \n",
       "0  Individual       Manual   First Owner  \n",
       "1  Individual       Manual   First Owner  \n",
       "2  Individual       Manual   First Owner  \n",
       "3  Individual       Manual   First Owner  \n",
       "4  Individual       Manual  Second Owner  "
      ]
     },
     "execution_count": 4,
     "metadata": {},
     "output_type": "execute_result"
    }
   ],
   "source": [
    "df.head()"
   ]
  },
  {
   "cell_type": "code",
   "execution_count": 5,
   "id": "04172caf",
   "metadata": {},
   "outputs": [
    {
     "name": "stdout",
     "output_type": "stream",
     "text": [
      "<class 'pandas.core.frame.DataFrame'>\n",
      "RangeIndex: 4340 entries, 0 to 4339\n",
      "Data columns (total 8 columns):\n",
      " #   Column         Non-Null Count  Dtype \n",
      "---  ------         --------------  ----- \n",
      " 0   name           4340 non-null   object\n",
      " 1   year           4340 non-null   int64 \n",
      " 2   selling_price  4340 non-null   int64 \n",
      " 3   km_driven      4340 non-null   int64 \n",
      " 4   fuel           4340 non-null   object\n",
      " 5   seller_type    4340 non-null   object\n",
      " 6   transmission   4340 non-null   object\n",
      " 7   owner          4340 non-null   object\n",
      "dtypes: int64(3), object(5)\n",
      "memory usage: 271.4+ KB\n"
     ]
    }
   ],
   "source": [
    "df.info()"
   ]
  },
  {
   "cell_type": "code",
   "execution_count": 6,
   "id": "115f1cf5",
   "metadata": {},
   "outputs": [
    {
     "data": {
      "text/plain": [
       "name             0\n",
       "year             0\n",
       "selling_price    0\n",
       "km_driven        0\n",
       "fuel             0\n",
       "seller_type      0\n",
       "transmission     0\n",
       "owner            0\n",
       "dtype: int64"
      ]
     },
     "execution_count": 6,
     "metadata": {},
     "output_type": "execute_result"
    }
   ],
   "source": [
    "# check Missing value present in dataset \n",
    "\n",
    "df.isnull().sum()"
   ]
  },
  {
   "cell_type": "code",
   "execution_count": 7,
   "id": "54166566",
   "metadata": {},
   "outputs": [
    {
     "data": {
      "text/html": [
       "<div>\n",
       "<style scoped>\n",
       "    .dataframe tbody tr th:only-of-type {\n",
       "        vertical-align: middle;\n",
       "    }\n",
       "\n",
       "    .dataframe tbody tr th {\n",
       "        vertical-align: top;\n",
       "    }\n",
       "\n",
       "    .dataframe thead th {\n",
       "        text-align: right;\n",
       "    }\n",
       "</style>\n",
       "<table border=\"1\" class=\"dataframe\">\n",
       "  <thead>\n",
       "    <tr style=\"text-align: right;\">\n",
       "      <th></th>\n",
       "      <th>year</th>\n",
       "      <th>selling_price</th>\n",
       "      <th>km_driven</th>\n",
       "    </tr>\n",
       "  </thead>\n",
       "  <tbody>\n",
       "    <tr>\n",
       "      <th>count</th>\n",
       "      <td>4340.000000</td>\n",
       "      <td>4.340000e+03</td>\n",
       "      <td>4340.000000</td>\n",
       "    </tr>\n",
       "    <tr>\n",
       "      <th>mean</th>\n",
       "      <td>2013.090783</td>\n",
       "      <td>5.041273e+05</td>\n",
       "      <td>66215.777419</td>\n",
       "    </tr>\n",
       "    <tr>\n",
       "      <th>std</th>\n",
       "      <td>4.215344</td>\n",
       "      <td>5.785487e+05</td>\n",
       "      <td>46644.102194</td>\n",
       "    </tr>\n",
       "    <tr>\n",
       "      <th>min</th>\n",
       "      <td>1992.000000</td>\n",
       "      <td>2.000000e+04</td>\n",
       "      <td>1.000000</td>\n",
       "    </tr>\n",
       "    <tr>\n",
       "      <th>25%</th>\n",
       "      <td>2011.000000</td>\n",
       "      <td>2.087498e+05</td>\n",
       "      <td>35000.000000</td>\n",
       "    </tr>\n",
       "    <tr>\n",
       "      <th>50%</th>\n",
       "      <td>2014.000000</td>\n",
       "      <td>3.500000e+05</td>\n",
       "      <td>60000.000000</td>\n",
       "    </tr>\n",
       "    <tr>\n",
       "      <th>75%</th>\n",
       "      <td>2016.000000</td>\n",
       "      <td>6.000000e+05</td>\n",
       "      <td>90000.000000</td>\n",
       "    </tr>\n",
       "    <tr>\n",
       "      <th>max</th>\n",
       "      <td>2020.000000</td>\n",
       "      <td>8.900000e+06</td>\n",
       "      <td>806599.000000</td>\n",
       "    </tr>\n",
       "  </tbody>\n",
       "</table>\n",
       "</div>"
      ],
      "text/plain": [
       "              year  selling_price      km_driven\n",
       "count  4340.000000   4.340000e+03    4340.000000\n",
       "mean   2013.090783   5.041273e+05   66215.777419\n",
       "std       4.215344   5.785487e+05   46644.102194\n",
       "min    1992.000000   2.000000e+04       1.000000\n",
       "25%    2011.000000   2.087498e+05   35000.000000\n",
       "50%    2014.000000   3.500000e+05   60000.000000\n",
       "75%    2016.000000   6.000000e+05   90000.000000\n",
       "max    2020.000000   8.900000e+06  806599.000000"
      ]
     },
     "execution_count": 7,
     "metadata": {},
     "output_type": "execute_result"
    }
   ],
   "source": [
    "df.describe()"
   ]
  },
  {
   "cell_type": "code",
   "execution_count": 8,
   "id": "5b5c4e72",
   "metadata": {},
   "outputs": [
    {
     "data": {
      "text/plain": [
       "763"
      ]
     },
     "execution_count": 8,
     "metadata": {},
     "output_type": "execute_result"
    }
   ],
   "source": [
    "# check Duplicates prsent in dataset \n",
    "\n",
    "df.duplicated().sum()"
   ]
  },
  {
   "cell_type": "code",
   "execution_count": 9,
   "id": "7017446a",
   "metadata": {},
   "outputs": [
    {
     "data": {
      "text/html": [
       "<div>\n",
       "<style scoped>\n",
       "    .dataframe tbody tr th:only-of-type {\n",
       "        vertical-align: middle;\n",
       "    }\n",
       "\n",
       "    .dataframe tbody tr th {\n",
       "        vertical-align: top;\n",
       "    }\n",
       "\n",
       "    .dataframe thead th {\n",
       "        text-align: right;\n",
       "    }\n",
       "</style>\n",
       "<table border=\"1\" class=\"dataframe\">\n",
       "  <thead>\n",
       "    <tr style=\"text-align: right;\">\n",
       "      <th></th>\n",
       "      <th>name</th>\n",
       "      <th>year</th>\n",
       "      <th>selling_price</th>\n",
       "      <th>km_driven</th>\n",
       "      <th>fuel</th>\n",
       "      <th>seller_type</th>\n",
       "      <th>transmission</th>\n",
       "      <th>owner</th>\n",
       "    </tr>\n",
       "  </thead>\n",
       "  <tbody>\n",
       "    <tr>\n",
       "      <th>0</th>\n",
       "      <td>Maruti 800 AC</td>\n",
       "      <td>2007</td>\n",
       "      <td>60000</td>\n",
       "      <td>70000</td>\n",
       "      <td>Petrol</td>\n",
       "      <td>Individual</td>\n",
       "      <td>Manual</td>\n",
       "      <td>First Owner</td>\n",
       "    </tr>\n",
       "    <tr>\n",
       "      <th>1</th>\n",
       "      <td>Maruti Wagon R LXI Minor</td>\n",
       "      <td>2007</td>\n",
       "      <td>135000</td>\n",
       "      <td>50000</td>\n",
       "      <td>Petrol</td>\n",
       "      <td>Individual</td>\n",
       "      <td>Manual</td>\n",
       "      <td>First Owner</td>\n",
       "    </tr>\n",
       "    <tr>\n",
       "      <th>2</th>\n",
       "      <td>Hyundai Verna 1.6 SX</td>\n",
       "      <td>2012</td>\n",
       "      <td>600000</td>\n",
       "      <td>100000</td>\n",
       "      <td>Diesel</td>\n",
       "      <td>Individual</td>\n",
       "      <td>Manual</td>\n",
       "      <td>First Owner</td>\n",
       "    </tr>\n",
       "    <tr>\n",
       "      <th>3</th>\n",
       "      <td>Datsun RediGO T Option</td>\n",
       "      <td>2017</td>\n",
       "      <td>250000</td>\n",
       "      <td>46000</td>\n",
       "      <td>Petrol</td>\n",
       "      <td>Individual</td>\n",
       "      <td>Manual</td>\n",
       "      <td>First Owner</td>\n",
       "    </tr>\n",
       "    <tr>\n",
       "      <th>4</th>\n",
       "      <td>Honda Amaze VX i-DTEC</td>\n",
       "      <td>2014</td>\n",
       "      <td>450000</td>\n",
       "      <td>141000</td>\n",
       "      <td>Diesel</td>\n",
       "      <td>Individual</td>\n",
       "      <td>Manual</td>\n",
       "      <td>Second Owner</td>\n",
       "    </tr>\n",
       "    <tr>\n",
       "      <th>...</th>\n",
       "      <td>...</td>\n",
       "      <td>...</td>\n",
       "      <td>...</td>\n",
       "      <td>...</td>\n",
       "      <td>...</td>\n",
       "      <td>...</td>\n",
       "      <td>...</td>\n",
       "      <td>...</td>\n",
       "    </tr>\n",
       "    <tr>\n",
       "      <th>4335</th>\n",
       "      <td>Hyundai i20 Magna 1.4 CRDi (Diesel)</td>\n",
       "      <td>2014</td>\n",
       "      <td>409999</td>\n",
       "      <td>80000</td>\n",
       "      <td>Diesel</td>\n",
       "      <td>Individual</td>\n",
       "      <td>Manual</td>\n",
       "      <td>Second Owner</td>\n",
       "    </tr>\n",
       "    <tr>\n",
       "      <th>4336</th>\n",
       "      <td>Hyundai i20 Magna 1.4 CRDi</td>\n",
       "      <td>2014</td>\n",
       "      <td>409999</td>\n",
       "      <td>80000</td>\n",
       "      <td>Diesel</td>\n",
       "      <td>Individual</td>\n",
       "      <td>Manual</td>\n",
       "      <td>Second Owner</td>\n",
       "    </tr>\n",
       "    <tr>\n",
       "      <th>4337</th>\n",
       "      <td>Maruti 800 AC BSIII</td>\n",
       "      <td>2009</td>\n",
       "      <td>110000</td>\n",
       "      <td>83000</td>\n",
       "      <td>Petrol</td>\n",
       "      <td>Individual</td>\n",
       "      <td>Manual</td>\n",
       "      <td>Second Owner</td>\n",
       "    </tr>\n",
       "    <tr>\n",
       "      <th>4338</th>\n",
       "      <td>Hyundai Creta 1.6 CRDi SX Option</td>\n",
       "      <td>2016</td>\n",
       "      <td>865000</td>\n",
       "      <td>90000</td>\n",
       "      <td>Diesel</td>\n",
       "      <td>Individual</td>\n",
       "      <td>Manual</td>\n",
       "      <td>First Owner</td>\n",
       "    </tr>\n",
       "    <tr>\n",
       "      <th>4339</th>\n",
       "      <td>Renault KWID RXT</td>\n",
       "      <td>2016</td>\n",
       "      <td>225000</td>\n",
       "      <td>40000</td>\n",
       "      <td>Petrol</td>\n",
       "      <td>Individual</td>\n",
       "      <td>Manual</td>\n",
       "      <td>First Owner</td>\n",
       "    </tr>\n",
       "  </tbody>\n",
       "</table>\n",
       "<p>3577 rows × 8 columns</p>\n",
       "</div>"
      ],
      "text/plain": [
       "                                     name  year  selling_price  km_driven  \\\n",
       "0                           Maruti 800 AC  2007          60000      70000   \n",
       "1                Maruti Wagon R LXI Minor  2007         135000      50000   \n",
       "2                    Hyundai Verna 1.6 SX  2012         600000     100000   \n",
       "3                  Datsun RediGO T Option  2017         250000      46000   \n",
       "4                   Honda Amaze VX i-DTEC  2014         450000     141000   \n",
       "...                                   ...   ...            ...        ...   \n",
       "4335  Hyundai i20 Magna 1.4 CRDi (Diesel)  2014         409999      80000   \n",
       "4336           Hyundai i20 Magna 1.4 CRDi  2014         409999      80000   \n",
       "4337                  Maruti 800 AC BSIII  2009         110000      83000   \n",
       "4338     Hyundai Creta 1.6 CRDi SX Option  2016         865000      90000   \n",
       "4339                     Renault KWID RXT  2016         225000      40000   \n",
       "\n",
       "        fuel seller_type transmission         owner  \n",
       "0     Petrol  Individual       Manual   First Owner  \n",
       "1     Petrol  Individual       Manual   First Owner  \n",
       "2     Diesel  Individual       Manual   First Owner  \n",
       "3     Petrol  Individual       Manual   First Owner  \n",
       "4     Diesel  Individual       Manual  Second Owner  \n",
       "...      ...         ...          ...           ...  \n",
       "4335  Diesel  Individual       Manual  Second Owner  \n",
       "4336  Diesel  Individual       Manual  Second Owner  \n",
       "4337  Petrol  Individual       Manual  Second Owner  \n",
       "4338  Diesel  Individual       Manual   First Owner  \n",
       "4339  Petrol  Individual       Manual   First Owner  \n",
       "\n",
       "[3577 rows x 8 columns]"
      ]
     },
     "execution_count": 9,
     "metadata": {},
     "output_type": "execute_result"
    }
   ],
   "source": [
    "# Handling of duplicates \n",
    "\n",
    "df.drop_duplicates(keep='first') "
   ]
  },
  {
   "cell_type": "code",
   "execution_count": 10,
   "id": "aa9be561",
   "metadata": {},
   "outputs": [
    {
     "data": {
      "text/plain": [
       "(4340, 8)"
      ]
     },
     "execution_count": 10,
     "metadata": {},
     "output_type": "execute_result"
    }
   ],
   "source": [
    "df.shape"
   ]
  },
  {
   "cell_type": "code",
   "execution_count": 11,
   "id": "f067d5c3",
   "metadata": {
    "scrolled": true
   },
   "outputs": [
    {
     "data": {
      "text/html": [
       "<div>\n",
       "<style scoped>\n",
       "    .dataframe tbody tr th:only-of-type {\n",
       "        vertical-align: middle;\n",
       "    }\n",
       "\n",
       "    .dataframe tbody tr th {\n",
       "        vertical-align: top;\n",
       "    }\n",
       "\n",
       "    .dataframe thead th {\n",
       "        text-align: right;\n",
       "    }\n",
       "</style>\n",
       "<table border=\"1\" class=\"dataframe\">\n",
       "  <thead>\n",
       "    <tr style=\"text-align: right;\">\n",
       "      <th></th>\n",
       "      <th>name</th>\n",
       "      <th>year</th>\n",
       "      <th>selling_price</th>\n",
       "      <th>km_driven</th>\n",
       "      <th>fuel</th>\n",
       "      <th>seller_type</th>\n",
       "      <th>transmission</th>\n",
       "      <th>owner</th>\n",
       "    </tr>\n",
       "  </thead>\n",
       "  <tbody>\n",
       "    <tr>\n",
       "      <th>0</th>\n",
       "      <td>Maruti 800 AC</td>\n",
       "      <td>2007</td>\n",
       "      <td>60000</td>\n",
       "      <td>70000</td>\n",
       "      <td>Petrol</td>\n",
       "      <td>Individual</td>\n",
       "      <td>Manual</td>\n",
       "      <td>First Owner</td>\n",
       "    </tr>\n",
       "    <tr>\n",
       "      <th>1</th>\n",
       "      <td>Maruti Wagon R LXI Minor</td>\n",
       "      <td>2007</td>\n",
       "      <td>135000</td>\n",
       "      <td>50000</td>\n",
       "      <td>Petrol</td>\n",
       "      <td>Individual</td>\n",
       "      <td>Manual</td>\n",
       "      <td>First Owner</td>\n",
       "    </tr>\n",
       "    <tr>\n",
       "      <th>2</th>\n",
       "      <td>Hyundai Verna 1.6 SX</td>\n",
       "      <td>2012</td>\n",
       "      <td>600000</td>\n",
       "      <td>100000</td>\n",
       "      <td>Diesel</td>\n",
       "      <td>Individual</td>\n",
       "      <td>Manual</td>\n",
       "      <td>First Owner</td>\n",
       "    </tr>\n",
       "    <tr>\n",
       "      <th>3</th>\n",
       "      <td>Datsun RediGO T Option</td>\n",
       "      <td>2017</td>\n",
       "      <td>250000</td>\n",
       "      <td>46000</td>\n",
       "      <td>Petrol</td>\n",
       "      <td>Individual</td>\n",
       "      <td>Manual</td>\n",
       "      <td>First Owner</td>\n",
       "    </tr>\n",
       "    <tr>\n",
       "      <th>4</th>\n",
       "      <td>Honda Amaze VX i-DTEC</td>\n",
       "      <td>2014</td>\n",
       "      <td>450000</td>\n",
       "      <td>141000</td>\n",
       "      <td>Diesel</td>\n",
       "      <td>Individual</td>\n",
       "      <td>Manual</td>\n",
       "      <td>Second Owner</td>\n",
       "    </tr>\n",
       "  </tbody>\n",
       "</table>\n",
       "</div>"
      ],
      "text/plain": [
       "                       name  year  selling_price  km_driven    fuel  \\\n",
       "0             Maruti 800 AC  2007          60000      70000  Petrol   \n",
       "1  Maruti Wagon R LXI Minor  2007         135000      50000  Petrol   \n",
       "2      Hyundai Verna 1.6 SX  2012         600000     100000  Diesel   \n",
       "3    Datsun RediGO T Option  2017         250000      46000  Petrol   \n",
       "4     Honda Amaze VX i-DTEC  2014         450000     141000  Diesel   \n",
       "\n",
       "  seller_type transmission         owner  \n",
       "0  Individual       Manual   First Owner  \n",
       "1  Individual       Manual   First Owner  \n",
       "2  Individual       Manual   First Owner  \n",
       "3  Individual       Manual   First Owner  \n",
       "4  Individual       Manual  Second Owner  "
      ]
     },
     "execution_count": 11,
     "metadata": {},
     "output_type": "execute_result"
    }
   ],
   "source": [
    "df.head()"
   ]
  },
  {
   "cell_type": "markdown",
   "id": "02b9e6d4",
   "metadata": {},
   "source": [
    "## Encoding catgorical data "
   ]
  },
  {
   "cell_type": "code",
   "execution_count": 12,
   "id": "581afcc6",
   "metadata": {},
   "outputs": [],
   "source": [
    "from sklearn.preprocessing import LabelEncoder\n",
    "encoder = LabelEncoder()"
   ]
  },
  {
   "cell_type": "markdown",
   "id": "95786059",
   "metadata": {},
   "source": [
    "### Encoding 'fuel type' column"
   ]
  },
  {
   "cell_type": "code",
   "execution_count": 13,
   "id": "100bd4ee",
   "metadata": {},
   "outputs": [
    {
     "data": {
      "text/plain": [
       "fuel\n",
       "Diesel      2153\n",
       "Petrol      2123\n",
       "CNG           40\n",
       "LPG           23\n",
       "Electric       1\n",
       "Name: count, dtype: int64"
      ]
     },
     "execution_count": 13,
     "metadata": {},
     "output_type": "execute_result"
    }
   ],
   "source": [
    "df['fuel'].value_counts()"
   ]
  },
  {
   "cell_type": "code",
   "execution_count": 14,
   "id": "df8dcfb1",
   "metadata": {},
   "outputs": [],
   "source": [
    "df['fuel'] = encoder.fit_transform(df['fuel'])"
   ]
  },
  {
   "cell_type": "code",
   "execution_count": 15,
   "id": "00d7e2fb",
   "metadata": {},
   "outputs": [
    {
     "data": {
      "text/plain": [
       "fuel\n",
       "1    2153\n",
       "4    2123\n",
       "0      40\n",
       "3      23\n",
       "2       1\n",
       "Name: count, dtype: int64"
      ]
     },
     "execution_count": 15,
     "metadata": {},
     "output_type": "execute_result"
    }
   ],
   "source": [
    "df['fuel'].value_counts()"
   ]
  },
  {
   "cell_type": "markdown",
   "id": "98cee247",
   "metadata": {},
   "source": [
    "### Encoding 'Seller_type' column "
   ]
  },
  {
   "cell_type": "code",
   "execution_count": 16,
   "id": "ca2d045b",
   "metadata": {},
   "outputs": [
    {
     "data": {
      "text/plain": [
       "seller_type\n",
       "Individual          3244\n",
       "Dealer               994\n",
       "Trustmark Dealer     102\n",
       "Name: count, dtype: int64"
      ]
     },
     "execution_count": 16,
     "metadata": {},
     "output_type": "execute_result"
    }
   ],
   "source": [
    "df['seller_type'].value_counts()"
   ]
  },
  {
   "cell_type": "code",
   "execution_count": 17,
   "id": "86b00a50",
   "metadata": {},
   "outputs": [],
   "source": [
    "df['seller_type'] = encoder.fit_transform(df['seller_type'])"
   ]
  },
  {
   "cell_type": "code",
   "execution_count": 18,
   "id": "96c6dc1e",
   "metadata": {},
   "outputs": [
    {
     "data": {
      "text/plain": [
       "seller_type\n",
       "1    3244\n",
       "0     994\n",
       "2     102\n",
       "Name: count, dtype: int64"
      ]
     },
     "execution_count": 18,
     "metadata": {},
     "output_type": "execute_result"
    }
   ],
   "source": [
    "df['seller_type'].value_counts()"
   ]
  },
  {
   "cell_type": "markdown",
   "id": "8ed7b560",
   "metadata": {},
   "source": [
    "### Encoding of transmission column"
   ]
  },
  {
   "cell_type": "code",
   "execution_count": 19,
   "id": "f4f6adcf",
   "metadata": {},
   "outputs": [
    {
     "data": {
      "text/plain": [
       "transmission\n",
       "Manual       3892\n",
       "Automatic     448\n",
       "Name: count, dtype: int64"
      ]
     },
     "execution_count": 19,
     "metadata": {},
     "output_type": "execute_result"
    }
   ],
   "source": [
    "df['transmission'].value_counts()"
   ]
  },
  {
   "cell_type": "code",
   "execution_count": 20,
   "id": "2fe6e53f",
   "metadata": {},
   "outputs": [],
   "source": [
    "df['transmission'] = encoder.fit_transform(df['transmission'])"
   ]
  },
  {
   "cell_type": "code",
   "execution_count": 21,
   "id": "4a4d511e",
   "metadata": {},
   "outputs": [
    {
     "data": {
      "text/plain": [
       "transmission\n",
       "1    3892\n",
       "0     448\n",
       "Name: count, dtype: int64"
      ]
     },
     "execution_count": 21,
     "metadata": {},
     "output_type": "execute_result"
    }
   ],
   "source": [
    "df['transmission'].value_counts()"
   ]
  },
  {
   "cell_type": "markdown",
   "id": "8cb18898",
   "metadata": {},
   "source": [
    "### Encoding of 'owner' column "
   ]
  },
  {
   "cell_type": "code",
   "execution_count": 22,
   "id": "a9499392",
   "metadata": {},
   "outputs": [
    {
     "data": {
      "text/plain": [
       "owner\n",
       "First Owner             2832\n",
       "Second Owner            1106\n",
       "Third Owner              304\n",
       "Fourth & Above Owner      81\n",
       "Test Drive Car            17\n",
       "Name: count, dtype: int64"
      ]
     },
     "execution_count": 22,
     "metadata": {},
     "output_type": "execute_result"
    }
   ],
   "source": [
    "df['owner'].value_counts()"
   ]
  },
  {
   "cell_type": "code",
   "execution_count": 23,
   "id": "bf2c67ea",
   "metadata": {},
   "outputs": [],
   "source": [
    "df['owner'] = encoder.fit_transform(df['owner'])"
   ]
  },
  {
   "cell_type": "code",
   "execution_count": 24,
   "id": "f5587830",
   "metadata": {},
   "outputs": [
    {
     "data": {
      "text/plain": [
       "owner\n",
       "0    2832\n",
       "2    1106\n",
       "4     304\n",
       "1      81\n",
       "3      17\n",
       "Name: count, dtype: int64"
      ]
     },
     "execution_count": 24,
     "metadata": {},
     "output_type": "execute_result"
    }
   ],
   "source": [
    "df['owner'].value_counts()"
   ]
  },
  {
   "cell_type": "code",
   "execution_count": 25,
   "id": "e8eb7540",
   "metadata": {
    "scrolled": true
   },
   "outputs": [
    {
     "data": {
      "text/html": [
       "<div>\n",
       "<style scoped>\n",
       "    .dataframe tbody tr th:only-of-type {\n",
       "        vertical-align: middle;\n",
       "    }\n",
       "\n",
       "    .dataframe tbody tr th {\n",
       "        vertical-align: top;\n",
       "    }\n",
       "\n",
       "    .dataframe thead th {\n",
       "        text-align: right;\n",
       "    }\n",
       "</style>\n",
       "<table border=\"1\" class=\"dataframe\">\n",
       "  <thead>\n",
       "    <tr style=\"text-align: right;\">\n",
       "      <th></th>\n",
       "      <th>name</th>\n",
       "      <th>year</th>\n",
       "      <th>selling_price</th>\n",
       "      <th>km_driven</th>\n",
       "      <th>fuel</th>\n",
       "      <th>seller_type</th>\n",
       "      <th>transmission</th>\n",
       "      <th>owner</th>\n",
       "    </tr>\n",
       "  </thead>\n",
       "  <tbody>\n",
       "    <tr>\n",
       "      <th>0</th>\n",
       "      <td>Maruti 800 AC</td>\n",
       "      <td>2007</td>\n",
       "      <td>60000</td>\n",
       "      <td>70000</td>\n",
       "      <td>4</td>\n",
       "      <td>1</td>\n",
       "      <td>1</td>\n",
       "      <td>0</td>\n",
       "    </tr>\n",
       "    <tr>\n",
       "      <th>1</th>\n",
       "      <td>Maruti Wagon R LXI Minor</td>\n",
       "      <td>2007</td>\n",
       "      <td>135000</td>\n",
       "      <td>50000</td>\n",
       "      <td>4</td>\n",
       "      <td>1</td>\n",
       "      <td>1</td>\n",
       "      <td>0</td>\n",
       "    </tr>\n",
       "    <tr>\n",
       "      <th>2</th>\n",
       "      <td>Hyundai Verna 1.6 SX</td>\n",
       "      <td>2012</td>\n",
       "      <td>600000</td>\n",
       "      <td>100000</td>\n",
       "      <td>1</td>\n",
       "      <td>1</td>\n",
       "      <td>1</td>\n",
       "      <td>0</td>\n",
       "    </tr>\n",
       "    <tr>\n",
       "      <th>3</th>\n",
       "      <td>Datsun RediGO T Option</td>\n",
       "      <td>2017</td>\n",
       "      <td>250000</td>\n",
       "      <td>46000</td>\n",
       "      <td>4</td>\n",
       "      <td>1</td>\n",
       "      <td>1</td>\n",
       "      <td>0</td>\n",
       "    </tr>\n",
       "    <tr>\n",
       "      <th>4</th>\n",
       "      <td>Honda Amaze VX i-DTEC</td>\n",
       "      <td>2014</td>\n",
       "      <td>450000</td>\n",
       "      <td>141000</td>\n",
       "      <td>1</td>\n",
       "      <td>1</td>\n",
       "      <td>1</td>\n",
       "      <td>2</td>\n",
       "    </tr>\n",
       "  </tbody>\n",
       "</table>\n",
       "</div>"
      ],
      "text/plain": [
       "                       name  year  selling_price  km_driven  fuel  \\\n",
       "0             Maruti 800 AC  2007          60000      70000     4   \n",
       "1  Maruti Wagon R LXI Minor  2007         135000      50000     4   \n",
       "2      Hyundai Verna 1.6 SX  2012         600000     100000     1   \n",
       "3    Datsun RediGO T Option  2017         250000      46000     4   \n",
       "4     Honda Amaze VX i-DTEC  2014         450000     141000     1   \n",
       "\n",
       "   seller_type  transmission  owner  \n",
       "0            1             1      0  \n",
       "1            1             1      0  \n",
       "2            1             1      0  \n",
       "3            1             1      0  \n",
       "4            1             1      2  "
      ]
     },
     "execution_count": 25,
     "metadata": {},
     "output_type": "execute_result"
    }
   ],
   "source": [
    "df.head()"
   ]
  },
  {
   "cell_type": "code",
   "execution_count": 26,
   "id": "6218e55c",
   "metadata": {},
   "outputs": [
    {
     "ename": "ValueError",
     "evalue": "could not convert string to float: 'Maruti 800 AC'",
     "output_type": "error",
     "traceback": [
      "\u001b[1;31m---------------------------------------------------------------------------\u001b[0m",
      "\u001b[1;31mValueError\u001b[0m                                Traceback (most recent call last)",
      "Cell \u001b[1;32mIn[26], line 1\u001b[0m\n\u001b[1;32m----> 1\u001b[0m sns\u001b[38;5;241m.\u001b[39mheatmap(df\u001b[38;5;241m.\u001b[39mcorr(),annot\u001b[38;5;241m=\u001b[39m\u001b[38;5;28;01mTrue\u001b[39;00m)\n",
      "File \u001b[1;32m~\\anaconda3\\Lib\\site-packages\\pandas\\core\\frame.py:10054\u001b[0m, in \u001b[0;36mDataFrame.corr\u001b[1;34m(self, method, min_periods, numeric_only)\u001b[0m\n\u001b[0;32m  10052\u001b[0m cols \u001b[38;5;241m=\u001b[39m data\u001b[38;5;241m.\u001b[39mcolumns\n\u001b[0;32m  10053\u001b[0m idx \u001b[38;5;241m=\u001b[39m cols\u001b[38;5;241m.\u001b[39mcopy()\n\u001b[1;32m> 10054\u001b[0m mat \u001b[38;5;241m=\u001b[39m data\u001b[38;5;241m.\u001b[39mto_numpy(dtype\u001b[38;5;241m=\u001b[39m\u001b[38;5;28mfloat\u001b[39m, na_value\u001b[38;5;241m=\u001b[39mnp\u001b[38;5;241m.\u001b[39mnan, copy\u001b[38;5;241m=\u001b[39m\u001b[38;5;28;01mFalse\u001b[39;00m)\n\u001b[0;32m  10056\u001b[0m \u001b[38;5;28;01mif\u001b[39;00m method \u001b[38;5;241m==\u001b[39m \u001b[38;5;124m\"\u001b[39m\u001b[38;5;124mpearson\u001b[39m\u001b[38;5;124m\"\u001b[39m:\n\u001b[0;32m  10057\u001b[0m     correl \u001b[38;5;241m=\u001b[39m libalgos\u001b[38;5;241m.\u001b[39mnancorr(mat, minp\u001b[38;5;241m=\u001b[39mmin_periods)\n",
      "File \u001b[1;32m~\\anaconda3\\Lib\\site-packages\\pandas\\core\\frame.py:1838\u001b[0m, in \u001b[0;36mDataFrame.to_numpy\u001b[1;34m(self, dtype, copy, na_value)\u001b[0m\n\u001b[0;32m   1836\u001b[0m \u001b[38;5;28;01mif\u001b[39;00m dtype \u001b[38;5;129;01mis\u001b[39;00m \u001b[38;5;129;01mnot\u001b[39;00m \u001b[38;5;28;01mNone\u001b[39;00m:\n\u001b[0;32m   1837\u001b[0m     dtype \u001b[38;5;241m=\u001b[39m np\u001b[38;5;241m.\u001b[39mdtype(dtype)\n\u001b[1;32m-> 1838\u001b[0m result \u001b[38;5;241m=\u001b[39m \u001b[38;5;28mself\u001b[39m\u001b[38;5;241m.\u001b[39m_mgr\u001b[38;5;241m.\u001b[39mas_array(dtype\u001b[38;5;241m=\u001b[39mdtype, copy\u001b[38;5;241m=\u001b[39mcopy, na_value\u001b[38;5;241m=\u001b[39mna_value)\n\u001b[0;32m   1839\u001b[0m \u001b[38;5;28;01mif\u001b[39;00m result\u001b[38;5;241m.\u001b[39mdtype \u001b[38;5;129;01mis\u001b[39;00m \u001b[38;5;129;01mnot\u001b[39;00m dtype:\n\u001b[0;32m   1840\u001b[0m     result \u001b[38;5;241m=\u001b[39m np\u001b[38;5;241m.\u001b[39marray(result, dtype\u001b[38;5;241m=\u001b[39mdtype, copy\u001b[38;5;241m=\u001b[39m\u001b[38;5;28;01mFalse\u001b[39;00m)\n",
      "File \u001b[1;32m~\\anaconda3\\Lib\\site-packages\\pandas\\core\\internals\\managers.py:1732\u001b[0m, in \u001b[0;36mBlockManager.as_array\u001b[1;34m(self, dtype, copy, na_value)\u001b[0m\n\u001b[0;32m   1730\u001b[0m         arr\u001b[38;5;241m.\u001b[39mflags\u001b[38;5;241m.\u001b[39mwriteable \u001b[38;5;241m=\u001b[39m \u001b[38;5;28;01mFalse\u001b[39;00m\n\u001b[0;32m   1731\u001b[0m \u001b[38;5;28;01melse\u001b[39;00m:\n\u001b[1;32m-> 1732\u001b[0m     arr \u001b[38;5;241m=\u001b[39m \u001b[38;5;28mself\u001b[39m\u001b[38;5;241m.\u001b[39m_interleave(dtype\u001b[38;5;241m=\u001b[39mdtype, na_value\u001b[38;5;241m=\u001b[39mna_value)\n\u001b[0;32m   1733\u001b[0m     \u001b[38;5;66;03m# The underlying data was copied within _interleave, so no need\u001b[39;00m\n\u001b[0;32m   1734\u001b[0m     \u001b[38;5;66;03m# to further copy if copy=True or setting na_value\u001b[39;00m\n\u001b[0;32m   1736\u001b[0m \u001b[38;5;28;01mif\u001b[39;00m na_value \u001b[38;5;129;01mis\u001b[39;00m \u001b[38;5;129;01mnot\u001b[39;00m lib\u001b[38;5;241m.\u001b[39mno_default:\n",
      "File \u001b[1;32m~\\anaconda3\\Lib\\site-packages\\pandas\\core\\internals\\managers.py:1794\u001b[0m, in \u001b[0;36mBlockManager._interleave\u001b[1;34m(self, dtype, na_value)\u001b[0m\n\u001b[0;32m   1792\u001b[0m     \u001b[38;5;28;01melse\u001b[39;00m:\n\u001b[0;32m   1793\u001b[0m         arr \u001b[38;5;241m=\u001b[39m blk\u001b[38;5;241m.\u001b[39mget_values(dtype)\n\u001b[1;32m-> 1794\u001b[0m     result[rl\u001b[38;5;241m.\u001b[39mindexer] \u001b[38;5;241m=\u001b[39m arr\n\u001b[0;32m   1795\u001b[0m     itemmask[rl\u001b[38;5;241m.\u001b[39mindexer] \u001b[38;5;241m=\u001b[39m \u001b[38;5;241m1\u001b[39m\n\u001b[0;32m   1797\u001b[0m \u001b[38;5;28;01mif\u001b[39;00m \u001b[38;5;129;01mnot\u001b[39;00m itemmask\u001b[38;5;241m.\u001b[39mall():\n",
      "\u001b[1;31mValueError\u001b[0m: could not convert string to float: 'Maruti 800 AC'"
     ]
    }
   ],
   "source": [
    "sns.heatmap(df.corr(),annot=True)"
   ]
  },
  {
   "cell_type": "code",
   "execution_count": null,
   "id": "a6ada23c",
   "metadata": {},
   "outputs": [],
   "source": [
    "## Save cleaned Sample Dataset \n",
    "\n",
    "df.to_csv('sample_data.csv')"
   ]
  },
  {
   "cell_type": "markdown",
   "id": "9edb3538",
   "metadata": {},
   "source": [
    "## Divide Dataset into Input and output dataset "
   ]
  },
  {
   "cell_type": "code",
   "execution_count": 27,
   "id": "664c2d5a",
   "metadata": {},
   "outputs": [],
   "source": [
    "x = df.drop(['selling_price','name'] , axis = 1)\n",
    "y = df['selling_price']"
   ]
  },
  {
   "cell_type": "code",
   "execution_count": 28,
   "id": "c34c0ddc",
   "metadata": {},
   "outputs": [
    {
     "data": {
      "text/plain": [
       "((4340, 6), (4340,))"
      ]
     },
     "execution_count": 28,
     "metadata": {},
     "output_type": "execute_result"
    }
   ],
   "source": [
    "x.shape ,y.shape"
   ]
  },
  {
   "cell_type": "markdown",
   "id": "9962fb58",
   "metadata": {},
   "source": [
    "## Spliting Data into into Traing and Test Data "
   ]
  },
  {
   "cell_type": "code",
   "execution_count": 29,
   "id": "df2b526c",
   "metadata": {},
   "outputs": [],
   "source": [
    "from sklearn.model_selection import train_test_split \n",
    "\n",
    "x_train ,x_test ,y_train ,y_test = train_test_split(x,y,test_size = 0.20 ,random_state = 40)"
   ]
  },
  {
   "cell_type": "code",
   "execution_count": 30,
   "id": "a6b4823d",
   "metadata": {},
   "outputs": [
    {
     "data": {
      "text/plain": [
       "((3472, 6), (868, 6), (3472,), (868,))"
      ]
     },
     "execution_count": 30,
     "metadata": {},
     "output_type": "execute_result"
    }
   ],
   "source": [
    "x_train.shape , x_test.shape , y_train.shape , y_test.shape"
   ]
  },
  {
   "cell_type": "markdown",
   "id": "cfb18beb",
   "metadata": {},
   "source": [
    "## Model Training "
   ]
  },
  {
   "cell_type": "markdown",
   "id": "3833bbfe",
   "metadata": {},
   "source": [
    "## 1. LinearRegression model "
   ]
  },
  {
   "cell_type": "code",
   "execution_count": 31,
   "id": "ec6e6618",
   "metadata": {},
   "outputs": [],
   "source": [
    "from sklearn.linear_model import LinearRegression\n",
    "\n",
    "regression = LinearRegression()"
   ]
  },
  {
   "cell_type": "code",
   "execution_count": 32,
   "id": "1dff8be0",
   "metadata": {},
   "outputs": [
    {
     "data": {
      "text/html": [
       "<style>#sk-container-id-1 {color: black;}#sk-container-id-1 pre{padding: 0;}#sk-container-id-1 div.sk-toggleable {background-color: white;}#sk-container-id-1 label.sk-toggleable__label {cursor: pointer;display: block;width: 100%;margin-bottom: 0;padding: 0.3em;box-sizing: border-box;text-align: center;}#sk-container-id-1 label.sk-toggleable__label-arrow:before {content: \"▸\";float: left;margin-right: 0.25em;color: #696969;}#sk-container-id-1 label.sk-toggleable__label-arrow:hover:before {color: black;}#sk-container-id-1 div.sk-estimator:hover label.sk-toggleable__label-arrow:before {color: black;}#sk-container-id-1 div.sk-toggleable__content {max-height: 0;max-width: 0;overflow: hidden;text-align: left;background-color: #f0f8ff;}#sk-container-id-1 div.sk-toggleable__content pre {margin: 0.2em;color: black;border-radius: 0.25em;background-color: #f0f8ff;}#sk-container-id-1 input.sk-toggleable__control:checked~div.sk-toggleable__content {max-height: 200px;max-width: 100%;overflow: auto;}#sk-container-id-1 input.sk-toggleable__control:checked~label.sk-toggleable__label-arrow:before {content: \"▾\";}#sk-container-id-1 div.sk-estimator input.sk-toggleable__control:checked~label.sk-toggleable__label {background-color: #d4ebff;}#sk-container-id-1 div.sk-label input.sk-toggleable__control:checked~label.sk-toggleable__label {background-color: #d4ebff;}#sk-container-id-1 input.sk-hidden--visually {border: 0;clip: rect(1px 1px 1px 1px);clip: rect(1px, 1px, 1px, 1px);height: 1px;margin: -1px;overflow: hidden;padding: 0;position: absolute;width: 1px;}#sk-container-id-1 div.sk-estimator {font-family: monospace;background-color: #f0f8ff;border: 1px dotted black;border-radius: 0.25em;box-sizing: border-box;margin-bottom: 0.5em;}#sk-container-id-1 div.sk-estimator:hover {background-color: #d4ebff;}#sk-container-id-1 div.sk-parallel-item::after {content: \"\";width: 100%;border-bottom: 1px solid gray;flex-grow: 1;}#sk-container-id-1 div.sk-label:hover label.sk-toggleable__label {background-color: #d4ebff;}#sk-container-id-1 div.sk-serial::before {content: \"\";position: absolute;border-left: 1px solid gray;box-sizing: border-box;top: 0;bottom: 0;left: 50%;z-index: 0;}#sk-container-id-1 div.sk-serial {display: flex;flex-direction: column;align-items: center;background-color: white;padding-right: 0.2em;padding-left: 0.2em;position: relative;}#sk-container-id-1 div.sk-item {position: relative;z-index: 1;}#sk-container-id-1 div.sk-parallel {display: flex;align-items: stretch;justify-content: center;background-color: white;position: relative;}#sk-container-id-1 div.sk-item::before, #sk-container-id-1 div.sk-parallel-item::before {content: \"\";position: absolute;border-left: 1px solid gray;box-sizing: border-box;top: 0;bottom: 0;left: 50%;z-index: -1;}#sk-container-id-1 div.sk-parallel-item {display: flex;flex-direction: column;z-index: 1;position: relative;background-color: white;}#sk-container-id-1 div.sk-parallel-item:first-child::after {align-self: flex-end;width: 50%;}#sk-container-id-1 div.sk-parallel-item:last-child::after {align-self: flex-start;width: 50%;}#sk-container-id-1 div.sk-parallel-item:only-child::after {width: 0;}#sk-container-id-1 div.sk-dashed-wrapped {border: 1px dashed gray;margin: 0 0.4em 0.5em 0.4em;box-sizing: border-box;padding-bottom: 0.4em;background-color: white;}#sk-container-id-1 div.sk-label label {font-family: monospace;font-weight: bold;display: inline-block;line-height: 1.2em;}#sk-container-id-1 div.sk-label-container {text-align: center;}#sk-container-id-1 div.sk-container {/* jupyter's `normalize.less` sets `[hidden] { display: none; }` but bootstrap.min.css set `[hidden] { display: none !important; }` so we also need the `!important` here to be able to override the default hidden behavior on the sphinx rendered scikit-learn.org. See: https://github.com/scikit-learn/scikit-learn/issues/21755 */display: inline-block !important;position: relative;}#sk-container-id-1 div.sk-text-repr-fallback {display: none;}</style><div id=\"sk-container-id-1\" class=\"sk-top-container\"><div class=\"sk-text-repr-fallback\"><pre>LinearRegression()</pre><b>In a Jupyter environment, please rerun this cell to show the HTML representation or trust the notebook. <br />On GitHub, the HTML representation is unable to render, please try loading this page with nbviewer.org.</b></div><div class=\"sk-container\" hidden><div class=\"sk-item\"><div class=\"sk-estimator sk-toggleable\"><input class=\"sk-toggleable__control sk-hidden--visually\" id=\"sk-estimator-id-1\" type=\"checkbox\" checked><label for=\"sk-estimator-id-1\" class=\"sk-toggleable__label sk-toggleable__label-arrow\">LinearRegression</label><div class=\"sk-toggleable__content\"><pre>LinearRegression()</pre></div></div></div></div></div>"
      ],
      "text/plain": [
       "LinearRegression()"
      ]
     },
     "execution_count": 32,
     "metadata": {},
     "output_type": "execute_result"
    }
   ],
   "source": [
    "## trainig the train data \n",
    "\n",
    "regression.fit(x_train , y_train)"
   ]
  },
  {
   "cell_type": "markdown",
   "id": "b8e8a5c0",
   "metadata": {},
   "source": [
    "##### Predication of test Data"
   ]
  },
  {
   "cell_type": "code",
   "execution_count": 33,
   "id": "f3b90964",
   "metadata": {},
   "outputs": [],
   "source": [
    "y_pred_test = regression.predict(x_test)"
   ]
  },
  {
   "cell_type": "code",
   "execution_count": 34,
   "id": "e3c77b68",
   "metadata": {},
   "outputs": [
    {
     "data": {
      "text/plain": [
       "array([ 6.03940554e+05, -1.92270550e+04,  4.92593460e+05,  3.69533117e+05,\n",
       "        4.01054005e+05,  1.60870673e+05,  7.70028130e+05,  6.92894726e+05,\n",
       "        5.23373916e+04,  5.33068905e+05,  1.25535917e+05,  5.43153959e+05,\n",
       "       -1.34215826e+05,  2.95753023e+05,  2.34966429e+05,  6.28769552e+05,\n",
       "        2.12964734e+05,  3.26883632e+05, -4.98670315e+04,  4.18167589e+05,\n",
       "       -6.95524204e+04,  1.02874294e+06,  1.69036225e+05,  8.09745717e+05,\n",
       "        5.98272190e+05,  6.44815890e+05,  5.20414953e+05,  4.48877510e+05,\n",
       "        2.43737383e+03,  7.20172016e+05,  5.53033969e+05,  6.46976442e+04,\n",
       "        4.63426173e+05,  7.86721025e+05,  5.83975489e+05,  4.88978462e+05,\n",
       "        1.64528013e+06,  3.23830014e+05,  1.24327978e+06,  4.09549672e+05,\n",
       "        4.48845847e+05,  4.04430993e+05, -1.70059946e+04,  4.62681976e+05,\n",
       "        1.21364154e+05,  2.46936403e+05,  3.20837521e+05,  5.09286356e+05,\n",
       "        4.68673767e+05,  3.40206286e+05,  7.10000116e+05,  4.32310354e+05,\n",
       "        3.98798824e+05,  6.39898149e+05,  1.68690609e+06,  1.68450347e+05,\n",
       "        5.24414567e+04,  2.43874592e+05,  6.42469954e+05,  7.50063065e+05,\n",
       "       -4.98670315e+04,  3.33851120e+05,  1.29878006e+05,  3.57485614e+04,\n",
       "        3.16452492e+05,  8.56476907e+05,  4.23488615e+05,  4.66666000e+05,\n",
       "        2.55665898e+05,  1.71924653e+05,  4.79270807e+05, -9.38566653e+04,\n",
       "        7.22941937e+05,  1.35589310e+05,  6.39898149e+05,  6.00843995e+05,\n",
       "        4.62681976e+05,  5.92294838e+04,  4.54978817e+05, -2.50380329e+04,\n",
       "        3.32551996e+05,  4.23250074e+05,  3.98482200e+05,  1.44079890e+06,\n",
       "        4.26242568e+05,  1.66464420e+05,  3.37634481e+05,  2.48981519e+05,\n",
       "        5.32150795e+05,  1.37907812e+06,  4.96413853e+05, -1.70059946e+04,\n",
       "        5.59247065e+05,  5.40374024e+05,  1.40203159e+06,  1.57321750e+05,\n",
       "        1.60650052e+06,  7.94961747e+04,  4.68877321e+05,  1.58501010e+06,\n",
       "        5.53033969e+05,  2.82685869e+05,  1.59248701e+06,  1.91227467e+05,\n",
       "        5.92811957e+05, -1.60628247e+05,  4.34756419e+05,  4.49288404e+05,\n",
       "        2.79419692e+05,  1.82345970e+04,  1.38581803e+05,  5.67982958e+05,\n",
       "        5.51185998e+05,  1.59248701e+06,  3.21408236e+05,  4.98157759e+05,\n",
       "        4.62681976e+05,  1.40435413e+06,  4.41612259e+05,  1.60210178e+05,\n",
       "        6.97412574e+05,  2.29761695e+05,  1.55162431e+06,  7.50063065e+05,\n",
       "        4.37644848e+05,  6.70187381e+05,  8.64200515e+05,  4.06514238e+05,\n",
       "        4.90082780e+05,  4.76699002e+05,  1.72884048e+06, -1.66296610e+05,\n",
       "        3.94722932e+05,  3.38012229e+05,  5.50869374e+05,  1.63425560e+06,\n",
       "       -1.60628247e+05,  1.11454683e+05,  3.61123042e+05,  1.48175917e+06,\n",
       "        5.03722057e+05,  9.40038979e+05,  7.45199131e+05,  5.34597167e+05,\n",
       "        4.62096098e+05,  4.77576645e+05,  7.11813340e+05,  6.46812394e+03,\n",
       "        7.36642339e+05,  2.38456442e+05,  5.52469333e+05,  3.10294802e+05,\n",
       "        4.18167589e+05,  7.81052661e+05,  5.34597167e+05,  7.75592428e+05,\n",
       "        6.14685410e+05,  7.42836154e+05,  6.72962310e+05,  2.90548289e+05,\n",
       "        3.92436088e+05,  4.87029162e+05,  5.20896766e+05,  4.09549672e+05,\n",
       "        5.12339974e+05,  2.79272686e+05,  6.14685410e+05,  3.03902605e+05,\n",
       "        3.37530416e+05,  4.76713733e+05,  1.47921951e+06,  3.79156375e+05,\n",
       "        1.24534429e+06,  4.65253781e+05,  6.89556147e+05,  3.66914919e+05,\n",
       "        3.31369819e+05,  3.96227019e+05,  7.81156727e+05,  5.84255165e+05,\n",
       "        5.61997971e+05,  8.28347538e+04,  5.32025363e+05,  7.24054797e+05,\n",
       "        2.90548289e+05, -2.72621117e+05,  1.43581355e+06,  5.17422459e+05,\n",
       "        2.91661148e+05,  1.57742438e+05, -7.32320783e+04,  4.20739394e+05,\n",
       "        6.89556147e+05, -5.53272649e+04,  3.75609666e+05,  3.40206286e+05,\n",
       "       -1.09961455e+05,  3.19895136e+05,  5.45243951e+05,  3.93130460e+05,\n",
       "        2.46033901e+05,  5.14294224e+05,  1.72884048e+06,  3.26505884e+05,\n",
       "        5.65307088e+05, -1.93696693e+04,  2.46199645e+04,  2.08698768e+05,\n",
       "        5.33068905e+05,  5.03539132e+05,  5.56372548e+05,  5.67913640e+05,\n",
       "        1.48732866e+06,  5.48297569e+05,  2.18633098e+05,  1.93804099e+05,\n",
       "        1.80397478e+05,  5.24376733e+05,  5.61997971e+05,  4.26242568e+05,\n",
       "        7.95346425e+05,  7.64463831e+05,  3.61164411e+05,  3.87670227e+05,\n",
       "        6.39898149e+05,  1.94763547e+04,  2.41974942e+05,  1.40118025e+06,\n",
       "        8.90727067e+05,  4.84254375e+04,  7.16677275e+05,  1.52531029e+05,\n",
       "        2.82412185e+05,  5.03953923e+05,  4.26242568e+05,  1.65878542e+05,\n",
       "        5.40161466e+05,  1.12873836e+06,  6.78427550e+05,  1.44898196e+06,\n",
       "        5.70554763e+05,  2.83283179e+05,  4.79270807e+05,  4.97655867e+04,\n",
       "       -1.68868415e+05,  4.06138691e+05,  3.73203051e+05,  1.37351382e+06,\n",
       "        5.17800207e+05,  1.71507367e+06,  4.54441808e+05,  4.04467187e+05,\n",
       "       -2.78083909e+03,  3.43472463e+05,  5.31100717e+05,  5.97955567e+05,\n",
       "        5.61997971e+05,  1.58417691e+06,  1.22675736e+06,  4.70336267e+05,\n",
       "        2.43253966e+05,  4.54822641e+05,  5.84255165e+05, -7.68176845e+04,\n",
       "        4.50109639e+05,  4.61044363e+05,  6.20212760e+05,  7.42931123e+05,\n",
       "        5.76885836e+05, -2.79264613e+04, -1.12187174e+05,  7.21227772e+05,\n",
       "       -1.63200052e+05,  7.39530767e+05,  3.01676886e+05,  6.41707284e+05,\n",
       "        4.07355616e+05,  3.57172865e+05,  5.99568879e+05,  4.87510975e+05,\n",
       "        4.26242568e+05,  6.72962310e+05,  5.72434397e+05,  2.90548289e+05,\n",
       "        4.78893059e+05,  1.74539399e+05,  1.56831720e+06,  4.34378671e+05,\n",
       "        5.59492576e+05,  4.34439796e+05,  5.89715398e+05,  5.36748284e+05,\n",
       "        5.56372548e+05,  3.21215269e+05,  4.12542166e+05, -8.89211857e+04,\n",
       "        1.05454905e+06,  6.93030870e+05,  5.03722057e+05,  9.20721142e+05,\n",
       "        3.54327377e+05,  5.76014996e+05,  9.65351556e+04,  2.96008522e+05,\n",
       "        5.56854361e+05,  4.23488615e+05,  4.24893420e+05,  4.26406535e+04,\n",
       "        5.14850654e+05,  9.85707835e+04,  5.84255165e+05,  1.27078095e+06,\n",
       "        4.16950664e+05,  2.80428487e+05,  6.19866675e+05,  4.34378671e+05,\n",
       "        4.39795964e+05,  5.57266857e+05,  3.62841228e+05,  4.25129708e+05,\n",
       "        5.56854361e+05,  2.52018888e+05,  5.49695390e+05,  3.87670227e+05,\n",
       "        4.79270807e+05,  7.83728531e+05,  6.79194324e+05,  3.70916207e+05,\n",
       "        3.98798824e+05,  3.90284972e+05,  3.65517098e+05,  4.20678269e+05,\n",
       "        2.96458673e+05, -2.16994538e+04,  7.11813340e+05,  3.33851120e+05,\n",
       "        4.98639572e+05,  4.13399805e+05,  1.39173208e+06,  5.96496621e+05,\n",
       "        1.82345970e+04,  3.48824203e+05,  6.04335980e+05,  7.28506236e+05,\n",
       "        4.21056017e+05,  3.17848587e+05,  5.50943977e+05,  3.09708924e+05,\n",
       "        3.36417556e+05,  2.75083930e+04,  7.28918731e+05,  5.26356999e+05,\n",
       "        1.07663752e+05,  2.95648958e+05,  7.81156727e+05,  5.56854361e+05,\n",
       "        1.63719232e+05,  4.59585418e+05,  1.63425560e+06,  3.14207686e+05,\n",
       "        8.04303833e+05,  6.51439242e+05,  3.37695606e+05,  1.48137840e+06,\n",
       "        4.78893059e+05,  3.90979344e+05,  6.53598551e+05,  7.00684743e+05,\n",
       "       -1.30339015e+05,  5.56149976e+05,  5.85223157e+04,  6.45874943e+05,\n",
       "       -1.63200052e+05, -2.81345915e+04,  1.57321750e+05, -7.68176845e+04,\n",
       "        3.57485614e+04,  5.73126568e+05,  2.77456246e+05,  3.51712631e+05,\n",
       "        3.37634481e+05,  1.80103697e+05,  1.96167774e+05,  1.40118025e+06,\n",
       "        5.34389037e+05,  6.06924854e+05,  5.03722057e+05,  1.35719868e+06,\n",
       "        1.16220544e+05,  1.25696475e+06,  4.90082780e+05,  7.14204528e+05,\n",
       "        4.29581147e+05,  2.79419692e+05,  3.48659013e+05,  3.15755036e+05,\n",
       "        5.33111459e+05,  8.30468638e+05,  8.11550024e+05,  3.90284972e+05,\n",
       "        4.32197576e+04,  3.84648271e+05,  1.43986472e+06,  3.43680593e+05,\n",
       "        1.94763547e+04, -2.97450116e+05,  1.39074163e+06,  7.81156727e+05,\n",
       "        1.36012185e+06,  1.39074163e+06,  4.84731040e+05,  4.23488615e+05,\n",
       "        6.14685410e+05,  7.10000116e+05,  9.69558442e+04, -5.23347714e+04,\n",
       "        3.80648672e+04,  3.48763078e+05,  1.82345970e+04,  3.90284972e+05,\n",
       "        6.62051278e+05,  1.46853265e+06,  4.04875300e+05,  3.93130460e+05,\n",
       "        5.59426166e+05,  1.40118025e+06,  3.03121100e+05,  5.31889635e+05,\n",
       "       -5.01836551e+04,  6.10963797e+05, -1.91161234e+05,  5.84255165e+05,\n",
       "        6.58503675e+05,  7.22941937e+05,  5.25348204e+05,  1.99264332e+05,\n",
       "        1.77384489e+06,  4.21694285e+05,  5.51220745e+05,  4.48560886e+05,\n",
       "        1.41049543e+05,  1.98255538e+05,  1.47620006e+06,  6.06512359e+05,\n",
       "        5.38002157e+05,  8.73771108e+05,  4.96930949e+03,  2.28728163e+04,\n",
       "        1.34913676e+04,  5.34597167e+05,  6.85871482e+05,  2.68291095e+05,\n",
       "        4.51071566e+05,  3.40206286e+05,  5.26040376e+05,  5.03396741e+05,\n",
       "        5.51185998e+05,  6.14685410e+05,  4.20796340e+04,  7.51843641e+05,\n",
       "        7.47837346e+05,  1.59537192e+06,  2.93120094e+05,  7.81156727e+05,\n",
       "        5.27652561e+05,  7.75592428e+05,  4.92593460e+05,  5.59426166e+05,\n",
       "        1.07663752e+05,  5.37168972e+05,  3.43680593e+05,  4.25129708e+05,\n",
       "        1.14653559e+06,  4.76382378e+05,  5.11095603e+05,  5.45792174e+05,\n",
       "        4.84457357e+05,  1.91597311e+04,  7.73131492e+05,  1.18792349e+05,\n",
       "        3.54327377e+05,  2.57162498e+05,  4.67764462e+05,  4.14169249e+04,\n",
       "        5.68329044e+05,  5.80057551e+04,  2.84879925e+05,  3.55389782e+05,\n",
       "        4.92654585e+05,  3.83508756e+05,  8.02275089e+05,  8.85031173e+04,\n",
       "        2.77456246e+05,  4.31106502e+05,  6.20100014e+05,  1.94763547e+04,\n",
       "        4.76382378e+05,  6.20212760e+05,  2.98580327e+05, -2.46001819e+05,\n",
       "        8.33807217e+05,  4.56635865e+05,  4.84134741e+05,  1.25721871e+06,\n",
       "        5.71949914e+05,  7.06661537e+05,  3.81789305e+05,  1.79578944e+05,\n",
       "        3.50871254e+05,  3.93130460e+05,  6.17640955e+05,  7.22759858e+05,\n",
       "        4.64351279e+05,  4.54125184e+05,  4.45507268e+05,  5.93224452e+05,\n",
       "        5.70600084e+05,  7.28312223e+05, -1.60628247e+05,  5.96670296e+05,\n",
       "        7.81156727e+05,  4.56302007e+05,  4.27136876e+05,  2.75083930e+04,\n",
       "        5.45243951e+05,  4.79305554e+05,  3.70556643e+05,  3.07241184e+05,\n",
       "        5.32025363e+05,  4.40709744e+05,  3.70977331e+05,  3.33773596e+05,\n",
       "        1.64795600e+06,  4.88519770e+05,  4.79270807e+05,  7.86721025e+05,\n",
       "        5.21527812e+05, -2.09034187e+02,  7.47770936e+05,  4.06064088e+05,\n",
       "        1.48749913e+06,  4.51137976e+05,  1.60418308e+05,  5.49306364e+05,\n",
       "        1.36794953e+06,  7.81156727e+05,  1.57629787e+06,  4.53758192e+05,\n",
       "        3.69405512e+05,  6.70703942e+05,  2.01836137e+05,  1.18792349e+05,\n",
       "        2.57479122e+05,  6.72962310e+05,  6.86984342e+05,  2.66097038e+05,\n",
       "        1.71546905e+05,  5.23197102e+05,  8.45813457e+05,  1.60418308e+05,\n",
       "        3.95256854e+05,  6.04353049e+05,  1.82345970e+04,  7.29685505e+05,\n",
       "        8.28242919e+05,  5.67982958e+05,  5.51173266e+04,  5.37297771e+05,\n",
       "        7.28085547e+05, -5.02877202e+04,  4.73224695e+05,  1.59248701e+06,\n",
       "       -3.01570200e+05, -1.91125609e+05,  1.60418308e+05,  2.88354232e+05,\n",
       "        6.75855745e+05,  2.43839845e+05,  2.20481596e+04,  1.57321750e+05,\n",
       "        3.96962130e+05,  5.26040376e+05,  5.01211377e+05,  6.92548640e+05,\n",
       "        6.52206016e+05,  2.60050927e+05,  6.09084163e+05,  6.05775600e+04,\n",
       "        3.96331084e+05,  1.37052133e+06,  4.17112111e+05,  4.23627822e+05,\n",
       "        2.04232332e+05,  4.18790429e+05,  4.43347959e+05,  5.33625334e+05,\n",
       "        1.57079729e+05,  5.28928804e+05,  6.00843995e+05,  3.19477076e+05,\n",
       "        1.72884048e+06,  4.48079073e+05,  6.46385746e+05,  1.41503572e+06,\n",
       "        2.12964734e+05,  3.39756136e+05,  1.17844896e+06,  1.46509776e+05,\n",
       "        2.37793733e+05,  3.37634481e+05,  5.80780845e+05, -8.42763478e+04,\n",
       "        3.00128606e+05,  4.26242568e+05,  7.47770936e+05,  5.34389037e+05,\n",
       "        4.56635865e+05,  1.29153996e+06,  1.34068446e+06,  1.22675736e+06,\n",
       "        5.11512075e+05,  4.68142210e+05,  4.92593460e+05,  1.66464420e+05,\n",
       "        4.42996588e+05,  6.30995272e+05, -5.87739769e+03,  7.46478544e+05,\n",
       "        9.20721142e+05,  3.82173713e+05,  5.73694100e+05, -2.54800632e+05,\n",
       "        5.21165133e+05,  4.67064097e+05,  1.28365376e+05,  1.45077476e+06,\n",
       "        4.57530173e+05,  8.28347538e+04,  1.47921951e+06,  1.29895223e+06,\n",
       "        1.67021319e+06,  6.06924854e+05,  7.51843641e+05,  3.84720674e+05,\n",
       "        1.71514008e+06,  1.76690515e+05,  5.49306364e+05,  4.74337555e+05,\n",
       "        5.80721651e+04,  3.90558655e+05,  7.00684743e+05,  5.65056875e+05,\n",
       "        2.57162498e+05,  1.42101251e+06,  5.96854225e+05,  2.07504501e+05,\n",
       "        2.67945010e+05,  7.84495306e+05,  1.61199840e+06,  1.01782830e+05,\n",
       "        4.68877321e+05,  4.75900565e+05,  1.39074163e+06,  5.03396741e+05,\n",
       "        4.92593460e+05,  5.16779185e+05,  6.12276972e+05,  3.47103804e+05,\n",
       "        3.43936812e+04,  6.06512359e+05,  3.74111213e+05,  3.93820417e+05,\n",
       "        7.64463831e+05,  6.11972592e+05,  6.42469954e+05,  8.28242919e+05,\n",
       "        1.01608899e+06,  5.31683325e+05,  4.79270807e+05,  7.81156727e+05,\n",
       "        8.07795095e+04,  4.12499225e+05,  3.16556557e+05,  3.43155839e+05,\n",
       "        7.96670728e+05,  2.74688578e+05,  5.45725764e+05,  6.06062208e+05,\n",
       "        1.63981990e+06,  3.20837521e+05,  1.84344792e+05,  1.51413316e+06,\n",
       "        2.90401283e+05,  8.54065587e+04,  6.70187381e+05,  2.04932696e+05,\n",
       "        5.19302093e+05,  4.26242568e+05, -2.52935729e+05, -2.09034187e+02,\n",
       "        1.73399228e+06,  4.87090286e+05,  1.65908460e+06,  6.53252465e+05,\n",
       "        4.25129708e+05,  1.33017505e+05,  5.34597167e+05,  3.71293955e+05,\n",
       "       -1.13376311e+04,  1.24460713e+05,  2.29761695e+05,  5.34115354e+05,\n",
       "        1.19552384e+06,  1.29920946e+05,  3.15755036e+05, -1.00049783e+05,\n",
       "        5.52469333e+05,  6.09917348e+05, -2.50363924e+05,  1.79578944e+05,\n",
       "        5.12339974e+05, -6.72600931e+05,  2.06798851e+05,  5.25437971e+05,\n",
       "        3.61313534e+05,  2.53131748e+05,  4.14169249e+04,  7.68203048e+04,\n",
       "        5.43153959e+05,  3.18326840e+05,  6.26197747e+05,  7.83702574e+05,\n",
       "        1.21336830e+06,  6.92961136e+05, -5.36083709e+03,  5.50869374e+05,\n",
       "        5.65653174e+05,  5.92330144e+05,  7.49205426e+05,  4.21056017e+05,\n",
       "        2.36277071e+03,  6.10617712e+05,  1.85667996e+05,  3.28601329e+04,\n",
       "        6.78427550e+05,  6.05053413e+05,  1.40203159e+06,  4.68142210e+05,\n",
       "        4.04126345e+05,  8.33807217e+05,  1.22049690e+05,  2.02844932e+05,\n",
       "        3.93024918e+05,  4.57013613e+05,  7.09241535e+05,  5.73547257e+05,\n",
       "        4.31106502e+05,  5.15228402e+05,  7.58899533e+05,  7.75592428e+05,\n",
       "        1.71514008e+06,  3.87292479e+05,  4.56635865e+05,  3.04101685e+05,\n",
       "        4.78586647e+05,  1.65908460e+06, -5.24093745e+04,  4.09927420e+05,\n",
       "        1.71338775e+05,  6.03940554e+05,  7.01864013e+05,  3.20941586e+05,\n",
       "        4.32280486e+05,  1.55634244e+06,  6.28769552e+05,  5.86765845e+05,\n",
       "        4.73328760e+05,  6.93030870e+05, -1.13376311e+04,  5.96563031e+05,\n",
       "        3.73969825e+05, -4.43027331e+04,  6.33913162e+05,  2.99105081e+05,\n",
       "        8.64018435e+05,  1.60210178e+05,  5.80780845e+05,  6.56170356e+05,\n",
       "        5.46468097e+05,  2.70237139e+05,  6.46976442e+04,  5.98722341e+05,\n",
       "        4.26242568e+05,  4.51071566e+05,  2.62622732e+05,  3.57485614e+04,\n",
       "        3.15755036e+05,  6.34333851e+05,  2.29553564e+05,  4.09927420e+05,\n",
       "        1.37710964e+05,  2.54590693e+05,  2.60005397e+05,  2.68144089e+05,\n",
       "        5.77075759e+05,  5.21527812e+05,  4.17235625e+05,  5.84255165e+05,\n",
       "        4.89978715e+05,  7.84728631e+05,  3.51712631e+05, -1.96522964e+05,\n",
       "        6.45358383e+05,  4.98639572e+05,  2.83185764e+05,  7.81156727e+05,\n",
       "        3.80467269e+05,  9.19903440e+05,  6.14685410e+05,  2.84177932e+05,\n",
       "        7.56223663e+05,  8.28242919e+05,  4.70056591e+05,  3.40206286e+05,\n",
       "        2.54065940e+05, -2.40783606e+05,  3.28601329e+04,  6.64727148e+05,\n",
       "        5.96225153e+05,  2.37854857e+05,  5.58033631e+05,  4.46960221e+05,\n",
       "        4.93075273e+05,  7.03848242e+05, -8.66176111e+03,  4.13399805e+05,\n",
       "       -1.41467611e+05,  1.62201414e+06,  5.05181002e+05,  5.17212101e+05,\n",
       "        6.53598551e+05,  6.86984342e+05,  1.60418308e+05,  5.28928804e+05,\n",
       "        3.90558655e+05,  4.87029162e+05,  5.37854201e+05,  4.68142210e+05,\n",
       "        5.40124797e+05, -6.64558618e+04,  3.73488012e+05,  6.42469954e+05,\n",
       "        7.40747692e+05,  3.43155839e+05,  4.26724381e+05,  4.66081373e+05,\n",
       "        1.38862079e+06,  1.64537600e+06,  8.46461170e+05,  5.15708293e+05,\n",
       "        2.60928040e+05, -2.01937582e+05,  3.28601329e+04,  2.77456246e+05,\n",
       "        3.82173713e+05, -7.34791054e+04,  1.74330766e+06,  5.28928804e+05])"
      ]
     },
     "execution_count": 34,
     "metadata": {},
     "output_type": "execute_result"
    }
   ],
   "source": [
    "y_pred_test"
   ]
  },
  {
   "cell_type": "markdown",
   "id": "14971c03",
   "metadata": {},
   "source": [
    "#####  Model Evaluation "
   ]
  },
  {
   "cell_type": "code",
   "execution_count": 35,
   "id": "46b2ce1a",
   "metadata": {},
   "outputs": [
    {
     "name": "stdout",
     "output_type": "stream",
     "text": [
      "0.4706444934865691\n"
     ]
    }
   ],
   "source": [
    "from sklearn.metrics import r2_score\n",
    "\n",
    "score=r2_score(y_test,y_pred_test)\n",
    "print(score)"
   ]
  },
  {
   "cell_type": "markdown",
   "id": "edfbc339",
   "metadata": {},
   "source": [
    "### 2.Lasso Regression "
   ]
  },
  {
   "cell_type": "code",
   "execution_count": 36,
   "id": "4a3ce41f",
   "metadata": {},
   "outputs": [],
   "source": [
    "from sklearn.linear_model import Lasso"
   ]
  },
  {
   "cell_type": "code",
   "execution_count": 37,
   "id": "f49b9387",
   "metadata": {},
   "outputs": [],
   "source": [
    "# loading the linear regression model\n",
    "lass_reg_model = Lasso()"
   ]
  },
  {
   "cell_type": "code",
   "execution_count": 38,
   "id": "480f33e9",
   "metadata": {},
   "outputs": [
    {
     "data": {
      "text/html": [
       "<style>#sk-container-id-2 {color: black;}#sk-container-id-2 pre{padding: 0;}#sk-container-id-2 div.sk-toggleable {background-color: white;}#sk-container-id-2 label.sk-toggleable__label {cursor: pointer;display: block;width: 100%;margin-bottom: 0;padding: 0.3em;box-sizing: border-box;text-align: center;}#sk-container-id-2 label.sk-toggleable__label-arrow:before {content: \"▸\";float: left;margin-right: 0.25em;color: #696969;}#sk-container-id-2 label.sk-toggleable__label-arrow:hover:before {color: black;}#sk-container-id-2 div.sk-estimator:hover label.sk-toggleable__label-arrow:before {color: black;}#sk-container-id-2 div.sk-toggleable__content {max-height: 0;max-width: 0;overflow: hidden;text-align: left;background-color: #f0f8ff;}#sk-container-id-2 div.sk-toggleable__content pre {margin: 0.2em;color: black;border-radius: 0.25em;background-color: #f0f8ff;}#sk-container-id-2 input.sk-toggleable__control:checked~div.sk-toggleable__content {max-height: 200px;max-width: 100%;overflow: auto;}#sk-container-id-2 input.sk-toggleable__control:checked~label.sk-toggleable__label-arrow:before {content: \"▾\";}#sk-container-id-2 div.sk-estimator input.sk-toggleable__control:checked~label.sk-toggleable__label {background-color: #d4ebff;}#sk-container-id-2 div.sk-label input.sk-toggleable__control:checked~label.sk-toggleable__label {background-color: #d4ebff;}#sk-container-id-2 input.sk-hidden--visually {border: 0;clip: rect(1px 1px 1px 1px);clip: rect(1px, 1px, 1px, 1px);height: 1px;margin: -1px;overflow: hidden;padding: 0;position: absolute;width: 1px;}#sk-container-id-2 div.sk-estimator {font-family: monospace;background-color: #f0f8ff;border: 1px dotted black;border-radius: 0.25em;box-sizing: border-box;margin-bottom: 0.5em;}#sk-container-id-2 div.sk-estimator:hover {background-color: #d4ebff;}#sk-container-id-2 div.sk-parallel-item::after {content: \"\";width: 100%;border-bottom: 1px solid gray;flex-grow: 1;}#sk-container-id-2 div.sk-label:hover label.sk-toggleable__label {background-color: #d4ebff;}#sk-container-id-2 div.sk-serial::before {content: \"\";position: absolute;border-left: 1px solid gray;box-sizing: border-box;top: 0;bottom: 0;left: 50%;z-index: 0;}#sk-container-id-2 div.sk-serial {display: flex;flex-direction: column;align-items: center;background-color: white;padding-right: 0.2em;padding-left: 0.2em;position: relative;}#sk-container-id-2 div.sk-item {position: relative;z-index: 1;}#sk-container-id-2 div.sk-parallel {display: flex;align-items: stretch;justify-content: center;background-color: white;position: relative;}#sk-container-id-2 div.sk-item::before, #sk-container-id-2 div.sk-parallel-item::before {content: \"\";position: absolute;border-left: 1px solid gray;box-sizing: border-box;top: 0;bottom: 0;left: 50%;z-index: -1;}#sk-container-id-2 div.sk-parallel-item {display: flex;flex-direction: column;z-index: 1;position: relative;background-color: white;}#sk-container-id-2 div.sk-parallel-item:first-child::after {align-self: flex-end;width: 50%;}#sk-container-id-2 div.sk-parallel-item:last-child::after {align-self: flex-start;width: 50%;}#sk-container-id-2 div.sk-parallel-item:only-child::after {width: 0;}#sk-container-id-2 div.sk-dashed-wrapped {border: 1px dashed gray;margin: 0 0.4em 0.5em 0.4em;box-sizing: border-box;padding-bottom: 0.4em;background-color: white;}#sk-container-id-2 div.sk-label label {font-family: monospace;font-weight: bold;display: inline-block;line-height: 1.2em;}#sk-container-id-2 div.sk-label-container {text-align: center;}#sk-container-id-2 div.sk-container {/* jupyter's `normalize.less` sets `[hidden] { display: none; }` but bootstrap.min.css set `[hidden] { display: none !important; }` so we also need the `!important` here to be able to override the default hidden behavior on the sphinx rendered scikit-learn.org. See: https://github.com/scikit-learn/scikit-learn/issues/21755 */display: inline-block !important;position: relative;}#sk-container-id-2 div.sk-text-repr-fallback {display: none;}</style><div id=\"sk-container-id-2\" class=\"sk-top-container\"><div class=\"sk-text-repr-fallback\"><pre>Lasso()</pre><b>In a Jupyter environment, please rerun this cell to show the HTML representation or trust the notebook. <br />On GitHub, the HTML representation is unable to render, please try loading this page with nbviewer.org.</b></div><div class=\"sk-container\" hidden><div class=\"sk-item\"><div class=\"sk-estimator sk-toggleable\"><input class=\"sk-toggleable__control sk-hidden--visually\" id=\"sk-estimator-id-2\" type=\"checkbox\" checked><label for=\"sk-estimator-id-2\" class=\"sk-toggleable__label sk-toggleable__label-arrow\">Lasso</label><div class=\"sk-toggleable__content\"><pre>Lasso()</pre></div></div></div></div></div>"
      ],
      "text/plain": [
       "Lasso()"
      ]
     },
     "execution_count": 38,
     "metadata": {},
     "output_type": "execute_result"
    }
   ],
   "source": [
    "lass_reg_model.fit(x_train,y_train)"
   ]
  },
  {
   "cell_type": "code",
   "execution_count": 39,
   "id": "bb04b0bc",
   "metadata": {},
   "outputs": [],
   "source": [
    "# prediction on Training data\n",
    "training_data_prediction = lass_reg_model.predict(x_train)"
   ]
  },
  {
   "cell_type": "code",
   "execution_count": 40,
   "id": "c7e20e78",
   "metadata": {},
   "outputs": [
    {
     "name": "stdout",
     "output_type": "stream",
     "text": [
      "R squared Error :  0.443769449578686\n"
     ]
    }
   ],
   "source": [
    "# R squared Error\n",
    "error_score = metrics.r2_score(y_train, training_data_prediction)\n",
    "print(\"R squared Error : \", error_score)"
   ]
  },
  {
   "cell_type": "markdown",
   "id": "6575619e",
   "metadata": {},
   "source": [
    "## 3. RandomForestRegressor model "
   ]
  },
  {
   "cell_type": "code",
   "execution_count": 41,
   "id": "42784abb",
   "metadata": {},
   "outputs": [],
   "source": [
    "from sklearn.ensemble import RandomForestRegressor\n",
    "\n",
    "rf_reg = RandomForestRegressor()"
   ]
  },
  {
   "cell_type": "code",
   "execution_count": 42,
   "id": "f7438e23",
   "metadata": {},
   "outputs": [
    {
     "data": {
      "text/html": [
       "<style>#sk-container-id-3 {color: black;}#sk-container-id-3 pre{padding: 0;}#sk-container-id-3 div.sk-toggleable {background-color: white;}#sk-container-id-3 label.sk-toggleable__label {cursor: pointer;display: block;width: 100%;margin-bottom: 0;padding: 0.3em;box-sizing: border-box;text-align: center;}#sk-container-id-3 label.sk-toggleable__label-arrow:before {content: \"▸\";float: left;margin-right: 0.25em;color: #696969;}#sk-container-id-3 label.sk-toggleable__label-arrow:hover:before {color: black;}#sk-container-id-3 div.sk-estimator:hover label.sk-toggleable__label-arrow:before {color: black;}#sk-container-id-3 div.sk-toggleable__content {max-height: 0;max-width: 0;overflow: hidden;text-align: left;background-color: #f0f8ff;}#sk-container-id-3 div.sk-toggleable__content pre {margin: 0.2em;color: black;border-radius: 0.25em;background-color: #f0f8ff;}#sk-container-id-3 input.sk-toggleable__control:checked~div.sk-toggleable__content {max-height: 200px;max-width: 100%;overflow: auto;}#sk-container-id-3 input.sk-toggleable__control:checked~label.sk-toggleable__label-arrow:before {content: \"▾\";}#sk-container-id-3 div.sk-estimator input.sk-toggleable__control:checked~label.sk-toggleable__label {background-color: #d4ebff;}#sk-container-id-3 div.sk-label input.sk-toggleable__control:checked~label.sk-toggleable__label {background-color: #d4ebff;}#sk-container-id-3 input.sk-hidden--visually {border: 0;clip: rect(1px 1px 1px 1px);clip: rect(1px, 1px, 1px, 1px);height: 1px;margin: -1px;overflow: hidden;padding: 0;position: absolute;width: 1px;}#sk-container-id-3 div.sk-estimator {font-family: monospace;background-color: #f0f8ff;border: 1px dotted black;border-radius: 0.25em;box-sizing: border-box;margin-bottom: 0.5em;}#sk-container-id-3 div.sk-estimator:hover {background-color: #d4ebff;}#sk-container-id-3 div.sk-parallel-item::after {content: \"\";width: 100%;border-bottom: 1px solid gray;flex-grow: 1;}#sk-container-id-3 div.sk-label:hover label.sk-toggleable__label {background-color: #d4ebff;}#sk-container-id-3 div.sk-serial::before {content: \"\";position: absolute;border-left: 1px solid gray;box-sizing: border-box;top: 0;bottom: 0;left: 50%;z-index: 0;}#sk-container-id-3 div.sk-serial {display: flex;flex-direction: column;align-items: center;background-color: white;padding-right: 0.2em;padding-left: 0.2em;position: relative;}#sk-container-id-3 div.sk-item {position: relative;z-index: 1;}#sk-container-id-3 div.sk-parallel {display: flex;align-items: stretch;justify-content: center;background-color: white;position: relative;}#sk-container-id-3 div.sk-item::before, #sk-container-id-3 div.sk-parallel-item::before {content: \"\";position: absolute;border-left: 1px solid gray;box-sizing: border-box;top: 0;bottom: 0;left: 50%;z-index: -1;}#sk-container-id-3 div.sk-parallel-item {display: flex;flex-direction: column;z-index: 1;position: relative;background-color: white;}#sk-container-id-3 div.sk-parallel-item:first-child::after {align-self: flex-end;width: 50%;}#sk-container-id-3 div.sk-parallel-item:last-child::after {align-self: flex-start;width: 50%;}#sk-container-id-3 div.sk-parallel-item:only-child::after {width: 0;}#sk-container-id-3 div.sk-dashed-wrapped {border: 1px dashed gray;margin: 0 0.4em 0.5em 0.4em;box-sizing: border-box;padding-bottom: 0.4em;background-color: white;}#sk-container-id-3 div.sk-label label {font-family: monospace;font-weight: bold;display: inline-block;line-height: 1.2em;}#sk-container-id-3 div.sk-label-container {text-align: center;}#sk-container-id-3 div.sk-container {/* jupyter's `normalize.less` sets `[hidden] { display: none; }` but bootstrap.min.css set `[hidden] { display: none !important; }` so we also need the `!important` here to be able to override the default hidden behavior on the sphinx rendered scikit-learn.org. See: https://github.com/scikit-learn/scikit-learn/issues/21755 */display: inline-block !important;position: relative;}#sk-container-id-3 div.sk-text-repr-fallback {display: none;}</style><div id=\"sk-container-id-3\" class=\"sk-top-container\"><div class=\"sk-text-repr-fallback\"><pre>RandomForestRegressor()</pre><b>In a Jupyter environment, please rerun this cell to show the HTML representation or trust the notebook. <br />On GitHub, the HTML representation is unable to render, please try loading this page with nbviewer.org.</b></div><div class=\"sk-container\" hidden><div class=\"sk-item\"><div class=\"sk-estimator sk-toggleable\"><input class=\"sk-toggleable__control sk-hidden--visually\" id=\"sk-estimator-id-3\" type=\"checkbox\" checked><label for=\"sk-estimator-id-3\" class=\"sk-toggleable__label sk-toggleable__label-arrow\">RandomForestRegressor</label><div class=\"sk-toggleable__content\"><pre>RandomForestRegressor()</pre></div></div></div></div></div>"
      ],
      "text/plain": [
       "RandomForestRegressor()"
      ]
     },
     "execution_count": 42,
     "metadata": {},
     "output_type": "execute_result"
    }
   ],
   "source": [
    "rf_reg.fit(x_train , y_train)"
   ]
  },
  {
   "cell_type": "code",
   "execution_count": 43,
   "id": "a9c59c24",
   "metadata": {},
   "outputs": [],
   "source": [
    "y_pred = rf_reg.predict(x_test)"
   ]
  },
  {
   "cell_type": "code",
   "execution_count": 44,
   "id": "a1cddfc1",
   "metadata": {},
   "outputs": [
    {
     "data": {
      "text/plain": [
       "0.919818600284815"
      ]
     },
     "execution_count": 44,
     "metadata": {},
     "output_type": "execute_result"
    }
   ],
   "source": [
    "rf_reg.score(x_train , y_train)"
   ]
  },
  {
   "cell_type": "code",
   "execution_count": 45,
   "id": "e8a4ea7f",
   "metadata": {},
   "outputs": [
    {
     "data": {
      "text/plain": [
       "0.6775457007645378"
      ]
     },
     "execution_count": 45,
     "metadata": {},
     "output_type": "execute_result"
    }
   ],
   "source": [
    "rf_reg.score(x_test , y_test)"
   ]
  },
  {
   "cell_type": "markdown",
   "id": "601b752b",
   "metadata": {},
   "source": [
    "## save  model and load Model "
   ]
  },
  {
   "cell_type": "code",
   "execution_count": 49,
   "id": "ac6d5ac0",
   "metadata": {},
   "outputs": [],
   "source": [
    "import pickle\n",
    "\n",
    "pickle.dump(rf_reg,open('random_regressor.pkl','wb'))"
   ]
  },
  {
   "cell_type": "code",
   "execution_count": 50,
   "id": "c3269c26",
   "metadata": {},
   "outputs": [],
   "source": [
    "model =pickle.load(open('random_regressor.pkl','rb'))"
   ]
  },
  {
   "cell_type": "code",
   "execution_count": 51,
   "id": "3d929fbf",
   "metadata": {},
   "outputs": [
    {
     "data": {
      "text/plain": [
       "array([ 623324.48412698,  137544.98      ,  418103.44295871,\n",
       "        245820.        ,  649041.66666667,  241719.96428571,\n",
       "        942221.66000577,  659727.46031746,  176277.17325758,\n",
       "        564748.15472222,  176534.28571429,  361271.42857143,\n",
       "        157199.74833333,  728450.        ,  433249.9       ,\n",
       "        466503.17113442,  232827.02380952,  280239.94224098,\n",
       "         75500.43650794,  437847.83702409,   98722.5       ,\n",
       "        329789.91      ,  300049.84      ,  692505.83333333,\n",
       "        430612.80952381,  765500.        ,  453256.34275938,\n",
       "        285639.16666667,   60180.        ,  705243.90873016,\n",
       "        504117.49      ,  196871.50380952,  493066.65833333,\n",
       "       1139475.02344877,  474160.        ,  391481.16246499,\n",
       "       1260900.        ,  260384.75777778,  700278.69047619,\n",
       "        265190.17524143,  572519.16416667,  261557.77777778,\n",
       "        129900.        ,  310295.20779221,  259641.7965368 ,\n",
       "        176384.94      ,  238587.91666667,  564763.86256133,\n",
       "        219566.64666667,  292383.37031025,  615484.18803419,\n",
       "        515761.52467857,  388809.58333333,  515995.25641026,\n",
       "       1068500.        ,  232630.88288095,  438244.9       ,\n",
       "        329322.38095238,  673518.36580839,  463950.        ,\n",
       "         75500.43650794,  760000.        ,  289833.42492857,\n",
       "        134957.13203463,  440338.33333333, 1053383.75      ,\n",
       "        670000.        ,  623946.62450295,  317273.57345238,\n",
       "        168170.        ,  229669.92904762,   82680.        ,\n",
       "        761664.99334405,  182332.        ,  515995.25641026,\n",
       "        483160.42369048,  310295.20779221,  201160.        ,\n",
       "        447674.23783944,  248691.82333333,  209088.26333333,\n",
       "        424731.57142857,  524125.        , 1842169.98      ,\n",
       "        414023.89291007,  107375.        ,  256998.14538889,\n",
       "        239317.5       ,  773390.29852381,  927525.        ,\n",
       "        402894.83422133,  129900.        ,  447240.        ,\n",
       "        473455.        , 1835000.        ,  232024.45413612,\n",
       "        891320.        ,  125227.20369048,  474662.55952381,\n",
       "       1725979.88      ,  504117.49      ,  249679.16666667,\n",
       "       2600000.        ,  183410.        ,  431875.89574315,\n",
       "         83750.        ,  511511.52467857,  380400.06683375,\n",
       "        232166.9047619 ,   80000.        ,  163597.36450541,\n",
       "        341504.58874459,  569840.23809524, 2600000.        ,\n",
       "        889300.        ,  411389.30735931,  310295.20779221,\n",
       "        392580.        ,  380144.3922619 ,  251754.32833333,\n",
       "        629703.33333333,  135878.33333333, 1237210.        ,\n",
       "        463950.        ,  189192.17532468,  854499.92063492,\n",
       "       1109066.66666667,  426549.96      ,  504814.0026139 ,\n",
       "        195777.5       , 4950000.        ,   99625.        ,\n",
       "        637550.        ,  227176.66666667,  812805.        ,\n",
       "       2660075.        ,   83750.        ,  129650.        ,\n",
       "        392184.3047619 , 1296899.95      ,  391909.39102285,\n",
       "        505250.        , 1217557.17023998,  452933.95979021,\n",
       "        441451.97560878,  212433.92857143,  675235.39395603,\n",
       "         94743.23593074,  692326.64285714,  245798.24083333,\n",
       "        385000.        ,  195372.61666667,  437847.83702409,\n",
       "        865593.25396825,  452933.95979021,  823928.71031746,\n",
       "        450000.        ,  577864.71528571,  535000.        ,\n",
       "        273873.46500721,  418315.        ,  350255.62354312,\n",
       "        331071.06142857,  265190.17524143,  308492.35353535,\n",
       "        325700.        ,  450000.        ,  196344.04761905,\n",
       "        310830.61632143,  366761.17647059, 1177879.94      ,\n",
       "        300228.76221176,  424650.        ,  242498.42778953,\n",
       "        776244.12309912,  362532.16559249,  404059.76      ,\n",
       "        193641.9047619 ,  911070.26972905,  473344.45238095,\n",
       "        489408.92857143,  180210.18643723,  196177.60904762,\n",
       "        736685.19898366,  273873.46500721,   62652.57142857,\n",
       "       1231750.        ,  485748.17293651,  288080.23809524,\n",
       "        175341.78571429,  113447.61904762,  398300.        ,\n",
       "        776244.12309912,  133238.33333333,  325896.28787879,\n",
       "        292383.37031025,   91584.7       ,  386733.33333333,\n",
       "        554329.50396825,  544692.96536797,  352907.38095238,\n",
       "        319491.11844017, 4950000.        ,  315755.        ,\n",
       "        354259.99      ,  200798.75      ,  111692.08333333,\n",
       "        135539.36507937,  564748.15472222,  284200.        ,\n",
       "        398762.98881674,  628693.42587302,  898049.61      ,\n",
       "        431087.5318254 ,  186841.83802309,  223890.        ,\n",
       "        232049.00512044,  760561.06416667,  489408.92857143,\n",
       "        414023.89291007,  956450.        ,  815250.00374625,\n",
       "        337503.996     ,  251905.87803863,  515995.25641026,\n",
       "         98968.75      ,  450399.95      ,  520000.        ,\n",
       "        913100.        ,   90431.78571429,  509397.5       ,\n",
       "        247580.625     ,  118500.        ,  165266.66666667,\n",
       "        414023.89291007,  248898.17857143,  704615.17857143,\n",
       "       1692149.99      ,  454307.38455988,  802640.        ,\n",
       "        544644.09242641,  274483.26      ,  229669.92904762,\n",
       "        121462.5       ,   87146.66666667,  322486.78047619,\n",
       "        276064.04761905,  650021.66666667,  472347.2041847 ,\n",
       "       2907500.        ,  224436.36904762,  265697.85714286,\n",
       "         97664.88095238,  262560.35714286,  478154.99166667,\n",
       "        431109.9975    ,  489408.92857143, 1971450.        ,\n",
       "        714305.71428571,  333691.6116909 ,  242216.66666667,\n",
       "        604700.        ,  473344.45238095,   80462.5       ,\n",
       "        190904.82142857,  565004.07666667,  621857.312     ,\n",
       "       1159038.35354762,  456250.        ,   86409.64285714,\n",
       "         91584.7       ,  564044.45720238,   68640.        ,\n",
       "        876918.19064069,  120677.38095238,  335002.72727273,\n",
       "        242697.85714286,  336289.48412698,  711280.        ,\n",
       "        332414.1482684 ,  414023.89291007,  535000.        ,\n",
       "        458638.0952381 ,  273873.46500721,  436351.78571429,\n",
       "        237850.        ,  773310.        ,  327284.22148672,\n",
       "        364202.38095238,  465555.20562771,  509620.83333333,\n",
       "        669516.66666667,  398762.98881674,  310119.33690476,\n",
       "        492391.51447222,  102775.23809524,  462930.        ,\n",
       "        600000.        ,  391909.39102285,  609383.33333333,\n",
       "        319165.75479076,  518121.41904762,  230450.95373016,\n",
       "        398716.19047619,  230706.48809524,  670000.        ,\n",
       "        444100.        ,  186860.        ,  459785.21939685,\n",
       "        151540.83333333,  473344.45238095, 1494700.        ,\n",
       "        335863.41880342,  315361.30952381,  603901.77489177,\n",
       "        327284.22148672,  388139.95      ,  363978.83615385,\n",
       "        304795.11904762,  550399.09966259,  230706.48809524,\n",
       "        241377.06349206,  741438.6974137 ,  251905.87803863,\n",
       "        229669.92904762,  876974.89470635,  841738.32333333,\n",
       "        298755.        ,  388809.58333333,  557190.46536797,\n",
       "        283195.        ,  302965.56536515,  244366.66666667,\n",
       "        153050.        ,  675235.39395603,  760000.        ,\n",
       "        510869.83336108,  471662.3015873 ,  550000.        ,\n",
       "        371751.19047619,   80000.        ,  527460.        ,\n",
       "        476200.        ,  675372.34126984,  253121.66666667,\n",
       "        451050.        ,  413933.32333333,  357879.92063492,\n",
       "        335426.21155952,  128670.5952381 , 1340904.28571429,\n",
       "        308377.88095238,  189867.92415476,  452450.        ,\n",
       "        911070.26972905,  230706.48809524,  173944.49603175,\n",
       "        291440.89285714, 2660075.        ,  130821.80952381,\n",
       "        797029.938     ,  383200.        ,  572900.        ,\n",
       "       1300000.        ,  436351.78571429,  168645.71428571,\n",
       "        714753.71572872,  648308.93093018,  115760.        ,\n",
       "        398762.98881674,  138442.87878788,  585535.        ,\n",
       "         68640.        ,  106250.        ,  232024.45413612,\n",
       "         80462.5       ,  134957.13203463,  524110.23809524,\n",
       "        229999.        ,  284735.76984782,  256998.14538889,\n",
       "        161016.66666667,  308388.58090909,  520000.        ,\n",
       "        639411.99616667,  503021.5952381 ,  391909.39102285,\n",
       "        954800.        ,  136059.36507937, 1478750.        ,\n",
       "        504814.0026139 ,  889500.        ,  323498.29333333,\n",
       "        232166.9047619 ,  325502.82545382,  247063.86075036,\n",
       "        519609.12198413,  868550.        ,  905251.58730159,\n",
       "        557190.46536797,  164398.69291819,  285606.        ,\n",
       "       1710850.        ,  138930.80333333,   98968.75      ,\n",
       "         72677.5       ,  550000.        ,  911070.26972905,\n",
       "        987450.        ,  550000.        ,  558961.54512155,\n",
       "        670000.        ,  450000.        ,  615484.18803419,\n",
       "        218011.66666667,   87012.5       ,  204099.3       ,\n",
       "        304239.78174603,   80000.        ,  557190.46536797,\n",
       "        610558.92857143, 2094350.        ,  255851.70454545,\n",
       "        544692.96536797,  393926.16734998,  520000.        ,\n",
       "         81266.66666667,  487366.66666667,  122886.78571429,\n",
       "        648271.6167381 ,   85082.21666667,  473344.45238095,\n",
       "        836462.5       ,  761664.99334405,  356665.59047619,\n",
       "        272613.53174603, 2621375.        ,  526376.42802706,\n",
       "        370358.33333333,  246086.69080919,  172471.79761905,\n",
       "        212891.66666667, 1843099.86      ,  665965.49242424,\n",
       "        321157.27091667, 1041736.        ,  108963.74      ,\n",
       "         79763.33333333,  128669.16666667,  452933.95979021,\n",
       "        655613.7549127 ,  226733.7987013 ,  691191.90392857,\n",
       "        292383.37031025,  348448.9484127 ,  888783.33333333,\n",
       "        569840.23809524,  450000.        ,  101795.5       ,\n",
       "        672677.5       ,  475038.998     , 1330819.16666667,\n",
       "        363081.65666667,  911070.26972905,  350633.32333333,\n",
       "        823928.71031746,  418103.44295871,  393926.16734998,\n",
       "        189867.92415476,  680233.92857143,  138930.80333333,\n",
       "        550399.09966259,  867110.        ,  496311.96428571,\n",
       "        210400.        ,  260699.99      ,  539102.70956097,\n",
       "         98961.3015873 ,  377621.66666667,  237780.61939105,\n",
       "        319165.75479076,  178472.19011544,  344136.63991564,\n",
       "        171151.5454823 ,  515167.61904762,  117501.36      ,\n",
       "        263642.42063492,  249337.49333333,  370308.29333333,\n",
       "        502270.37698413, 1059600.        ,   80072.5       ,\n",
       "        229999.        ,  248050.15817207,  457197.77      ,\n",
       "         98968.75      ,  496311.96428571,  621857.312     ,\n",
       "        226600.        ,   66686.66666667,  808168.75      ,\n",
       "        426830.96249462,  554949.99      ,  774626.66666667,\n",
       "        482785.3968254 ,  626933.33333333,  425316.66666667,\n",
       "        265884.02645599,  580440.        ,  544692.96536797,\n",
       "        654230.03038628,  207100.        ,  467973.33333333,\n",
       "        190845.16899767,  386353.7847619 ,  542558.33133333,\n",
       "        597239.985     ,  905885.11904762,   83750.        ,\n",
       "       1002633.23642857,  911070.26972905,  426830.96249462,\n",
       "        244743.33333333,  128670.5952381 ,  554329.50396825,\n",
       "        327378.664     ,  581600.        ,  251889.4047619 ,\n",
       "        196177.60904762,  398350.        ,  286080.71428571,\n",
       "        327109.52      , 1573200.        ,  156156.60285714,\n",
       "        229669.92904762, 1139475.02344877,  531965.99500794,\n",
       "         98500.16666667,  926119.37340437,  360589.89      ,\n",
       "       1308000.        ,  473485.44454545,  219384.81855592,\n",
       "        612781.41857143, 1520750.        ,  911070.26972905,\n",
       "       3425620.        ,  410127.5       ,  518800.        ,\n",
       "        710254.9955    ,  194250.35714286,  237780.61939105,\n",
       "        190245.37095238,  535000.        ,  665494.25681746,\n",
       "        203949.82683983,  166564.53119048,  511655.78807937,\n",
       "        539192.5       ,  219384.81855592,  273437.08055523,\n",
       "        539864.24603175,   80000.        ,  694870.        ,\n",
       "       1132033.33333333,  341504.58874459,  104938.58333333,\n",
       "        415407.29198413,  629759.52380952,  102044.2052381 ,\n",
       "        478974.98481786, 2600000.        ,   65920.        ,\n",
       "         60426.66666667,  219384.81855592,  176228.18181818,\n",
       "        638701.80194805,  198458.21428571,  106609.88095238,\n",
       "        232024.45413612,  464990.23809524,  348448.9484127 ,\n",
       "        327030.99206349,  770083.25396825,  601000.        ,\n",
       "        312146.26833333,  580829.9975    ,  192331.08411111,\n",
       "        206319.86095238,  737650.        ,  236550.        ,\n",
       "        466257.2002997 ,  283963.56421356,  234115.        ,\n",
       "        522986.91195693,  594348.18916667,  233301.10040909,\n",
       "        608345.66863492,  483160.42369048,   88018.65666667,\n",
       "       4950000.        ,  558926.16666667,  690725.        ,\n",
       "        753570.        ,  232827.02380952,  276465.16264646,\n",
       "        543950.        ,  138512.72453391,  282502.84619048,\n",
       "        256998.14538889,  423853.57142857,   75720.        ,\n",
       "        402679.4047619 ,  414023.89291007,  926119.37340437,\n",
       "        639411.99616667,  426830.96249462,  705320.        ,\n",
       "        551030.6547619 ,  714305.71428571,  720018.18090909,\n",
       "        386471.38304592,  418103.44295871,  107375.        ,\n",
       "        225407.52414252,  609509.21500722,  122830.41666667,\n",
       "        956863.31315324,  609383.33333333,  625000.        ,\n",
       "        951814.85978175,   72285.        ,  634759.98      ,\n",
       "        525526.90541667,  200393.33333333, 1580000.        ,\n",
       "        331016.66666667,  180210.18643723, 1177879.94      ,\n",
       "       1009590.        , 1415500.        ,  503021.5952381 ,\n",
       "        672677.5       ,  414001.44438894, 3800000.        ,\n",
       "        247844.10714286,  612781.41857143,  493881.64742296,\n",
       "        105045.83333333,  202309.62481962,  648308.93093018,\n",
       "        466408.33333333,  178472.19011544, 1241250.        ,\n",
       "        584598.33333333,  226657.97619048,  288077.37179487,\n",
       "        994098.48789574, 1647308.33333333,  176320.        ,\n",
       "        474662.55952381,  434256.4837518 ,  550000.        ,\n",
       "        888783.33333333,  418103.44295871,  339089.16666667,\n",
       "        640624.09689683,  325668.9484127 ,  111230.83333333,\n",
       "        665965.49242424,  303929.47047619,  689375.        ,\n",
       "        815250.00374625,  492815.60195238,  673518.36580839,\n",
       "       1132033.33333333,  339639.89      ,  368893.        ,\n",
       "        229669.92904762,  911070.26972905,  136566.66666667,\n",
       "        315902.58547009,  447350.        ,  254271.42857143,\n",
       "       1054800.        ,  227545.87301587,  288290.55952381,\n",
       "        360815.        , 1513950.        ,  238587.91666667,\n",
       "        295097.87462537, 1671090.        ,  341400.        ,\n",
       "        198883.25396825,  854499.92063492,  217291.66666667,\n",
       "        438006.42657143,  414023.89291007,   51490.        ,\n",
       "         98500.16666667, 2672625.        ,  666045.82333333,\n",
       "       1905244.04761905,  468034.03571429,  550399.09966259,\n",
       "        140426.42914827,  452933.95979021,  332824.25333333,\n",
       "        108954.69047619,  143437.6031746 ,  135878.33333333,\n",
       "        540730.        , 1703149.99      ,  134325.1195873 ,\n",
       "        247063.86075036,  102615.82539683,  385000.        ,\n",
       "        541380.        ,   75960.        ,  265884.02645599,\n",
       "        308492.35353535,  157118.96825397,  240959.38      ,\n",
       "        352221.63666667,  342503.996     ,  199971.34920635,\n",
       "        171151.5454823 ,  172731.9047619 ,  361271.42857143,\n",
       "        374700.        ,  433775.        ,  655140.        ,\n",
       "        507000.        ,  817150.        ,  160500.        ,\n",
       "        812805.        ,  335774.98      ,  502693.3964924 ,\n",
       "        868776.70709957,  253121.66666667,   93350.        ,\n",
       "        497341.82539683,  259650.        ,  129065.47619048,\n",
       "        454307.38455988,  622119.8015873 , 1835000.        ,\n",
       "        386471.38304592,  307257.4775    ,  808168.75      ,\n",
       "        193441.33765296,  268246.39857143,  338100.        ,\n",
       "        244470.98412698,  507280.        ,  476271.42857143,\n",
       "        248050.15817207,  511863.36954712,  914894.71428571,\n",
       "        823928.71031746, 3800000.        ,  295712.99603175,\n",
       "        426830.96249462,  503600.        ,  393988.664     ,\n",
       "       1905244.04761905,  134407.5       ,  290616.2363925 ,\n",
       "        233987.12266667,  623324.48412698,  776889.99      ,\n",
       "        287039.16666667,  364100.        , 3501200.        ,\n",
       "        466503.17113442,  618230.0012698 ,  545979.9791181 ,\n",
       "        600000.        ,  108954.69047619,  553949.96333333,\n",
       "        168315.0952381 ,   89330.        ,  589707.92063492,\n",
       "        225200.        ,  289999.97      ,  251754.32833333,\n",
       "        423853.57142857,  578879.52380952,  556750.11904762,\n",
       "        211412.5       ,  196871.50380952,  508855.46952381,\n",
       "        414023.89291007,  691191.90392857,  313186.9047619 ,\n",
       "        134957.13203463,  247063.86075036,  710522.5       ,\n",
       "        279283.07916667,  290616.2363925 ,  164672.28222222,\n",
       "        208430.86580087,  401199.84      ,  542300.        ,\n",
       "        415383.33      ,  531965.99500794,  501539.9835    ,\n",
       "        473344.45238095,  615635.33730159,  647250.        ,\n",
       "        284735.76984782,   81284.28571429,  375836.33333333,\n",
       "        510869.83336108,  242304.78952381,  911070.26972905,\n",
       "        270650.        ,  391600.        ,  450000.        ,\n",
       "        283600.        , 1086718.42582973, 1132033.33333333,\n",
       "        684150.        ,  292383.37031025,  188276.63666667,\n",
       "         78916.66666667,  129065.47619048,  603229.2083715 ,\n",
       "        599315.83166667,  258049.99      ,  373120.        ,\n",
       "        291856.66666667,  260949.53174603,  715699.98      ,\n",
       "        122666.66666667,  471662.3015873 ,  102730.83333333,\n",
       "       2338930.35714286,  503324.76190476,  190820.83333333,\n",
       "        714753.71572872,  665494.25681746,  219384.81855592,\n",
       "        608345.66863492,  202309.62481962,  350255.62354312,\n",
       "        513099.883171  ,  386471.38304592,  732159.44388889,\n",
       "         86556.66666667,  303929.47047619,  673518.36580839,\n",
       "       1153959.54126587,  254271.42857143,  129302.73809524,\n",
       "        293129.76190476, 2302060.        , 3074750.        ,\n",
       "        961044.07666667, 1142400.        ,  363230.95238095,\n",
       "        103037.72714286,  129065.47619048,  229999.        ,\n",
       "        625000.        ,   69412.5       , 4563740.        ,\n",
       "        608345.66863492])"
      ]
     },
     "execution_count": 51,
     "metadata": {},
     "output_type": "execute_result"
    }
   ],
   "source": [
    "model.predict(x_test)"
   ]
  },
  {
   "cell_type": "code",
   "execution_count": null,
   "id": "c964347b",
   "metadata": {},
   "outputs": [],
   "source": []
  },
  {
   "cell_type": "code",
   "execution_count": null,
   "id": "8e20c70a",
   "metadata": {},
   "outputs": [],
   "source": []
  }
 ],
 "metadata": {
  "kernelspec": {
   "display_name": "Python 3 (ipykernel)",
   "language": "python",
   "name": "python3"
  },
  "language_info": {
   "codemirror_mode": {
    "name": "ipython",
    "version": 3
   },
   "file_extension": ".py",
   "mimetype": "text/x-python",
   "name": "python",
   "nbconvert_exporter": "python",
   "pygments_lexer": "ipython3",
   "version": "3.11.5"
  }
 },
 "nbformat": 4,
 "nbformat_minor": 5
}
